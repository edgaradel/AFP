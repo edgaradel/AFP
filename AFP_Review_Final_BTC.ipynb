{
  "cells": [
    {
      "cell_type": "markdown",
      "id": "a3085818",
      "metadata": {
        "id": "a3085818"
      },
      "source": [
        "## Advanced Finance Project-2 BTC\n",
        "<br>\n",
        "<br>\n"
      ]
    },
    {
      "cell_type": "markdown",
      "source": [
        "#1\n"
      ],
      "metadata": {
        "id": "rqS_C9d2p340"
      },
      "id": "rqS_C9d2p340"
    },
    {
      "cell_type": "code",
      "execution_count": 37,
      "id": "9884840d",
      "metadata": {
        "id": "9884840d"
      },
      "outputs": [],
      "source": [
        "import pandas as pd\n",
        "import numpy as np\n",
        "import math\n",
        "import matplotlib.pyplot as plt\n",
        "from datetime import datetime\n",
        "from scipy.stats import norm\n",
        "import sympy as sym\n",
        "import statsmodels.api\n",
        "from pandas import read_csv\n",
        "from matplotlib import pyplot\n",
        "from statsmodels.graphics.tsaplots import plot_acf\n",
        "from statsmodels.tsa.stattools import acf\n",
        "from sklearn.linear_model import LinearRegression\n",
        "from statsmodels.stats.diagnostic import het_white\n",
        "import statsmodels.api as sm"
      ]
    },
    {
      "cell_type": "markdown",
      "id": "9d5e9080",
      "metadata": {
        "id": "9d5e9080"
      },
      "source": [
        "## Question - 1"
      ]
    },
    {
      "cell_type": "code",
      "execution_count": 39,
      "id": "0555dcc3",
      "metadata": {
        "scrolled": false,
        "id": "0555dcc3"
      },
      "outputs": [],
      "source": [
        "#Question - 1\n",
        "#Reading the data from CSV file\n",
        "df = pd.read_excel('/content/augmento_btc_returns.xls')"
      ]
    },
    {
      "cell_type": "code",
      "source": [
        "df.head()"
      ],
      "metadata": {
        "colab": {
          "base_uri": "https://localhost:8080/",
          "height": 429
        },
        "id": "p3H-eJJMvhg9",
        "outputId": "8f16bb67-d216-4883-de1a-1c0c9d6d87ea"
      },
      "id": "p3H-eJJMvhg9",
      "execution_count": 40,
      "outputs": [
        {
          "output_type": "execute_result",
          "data": {
            "text/plain": [
              "                  date  listing_close   returns  twitter_hacks  \\\n",
              "0  2016-11-01 01:00:00         706.00       NaN              0   \n",
              "1  2016-11-01 02:00:00         709.99 -0.005636              1   \n",
              "2  2016-11-01 03:00:00         708.54  0.002044              0   \n",
              "3  2016-11-01 04:00:00         702.85  0.008063              0   \n",
              "4  2016-11-01 05:00:00         708.50 -0.008007              0   \n",
              "\n",
              "   twitter_pessimistic_doubtful  twitter_banks  twitter_selling  \\\n",
              "0                             0              0                1   \n",
              "1                             0              0                1   \n",
              "2                             0              0                0   \n",
              "3                             0              1                0   \n",
              "4                             0              0                0   \n",
              "\n",
              "   twitter_market_manipulation  twitter_de_centralisation  twitter_angry  ...  \\\n",
              "0                            0                          0              0  ...   \n",
              "1                            0                          1              0  ...   \n",
              "2                            0                          0              0  ...   \n",
              "3                            0                          0              0  ...   \n",
              "4                            0                          0              0  ...   \n",
              "\n",
              "   reddit_dip  reddit_launch  reddit_fomo_theme  reddit_advice_support  \\\n",
              "0           0              1                  0                     13   \n",
              "1           0              0                  0                     10   \n",
              "2           0              0                  0                      8   \n",
              "3           0              0                  0                      4   \n",
              "4           0              0                  0                      3   \n",
              "\n",
              "   reddit_rebranding  reddit_wallet  reddit_good_news  \\\n",
              "0                  0              0                 4   \n",
              "1                  0              2                 1   \n",
              "2                  0              2                 1   \n",
              "3                  0              1                 1   \n",
              "4                  0              0                 1   \n",
              "\n",
              "   reddit_problems_and_issues  reddit_mining  reddit_waiting  \n",
              "0                           1              3               3  \n",
              "1                           1              0               1  \n",
              "2                           5              3               0  \n",
              "3                           0              0               0  \n",
              "4                           2              0               0  \n",
              "\n",
              "[5 rows x 256 columns]"
            ],
            "text/html": [
              "\n",
              "  <div id=\"df-8cdcb1a9-8f9e-4eb8-ac2f-c825e60fa5ba\" class=\"colab-df-container\">\n",
              "    <div>\n",
              "<style scoped>\n",
              "    .dataframe tbody tr th:only-of-type {\n",
              "        vertical-align: middle;\n",
              "    }\n",
              "\n",
              "    .dataframe tbody tr th {\n",
              "        vertical-align: top;\n",
              "    }\n",
              "\n",
              "    .dataframe thead th {\n",
              "        text-align: right;\n",
              "    }\n",
              "</style>\n",
              "<table border=\"1\" class=\"dataframe\">\n",
              "  <thead>\n",
              "    <tr style=\"text-align: right;\">\n",
              "      <th></th>\n",
              "      <th>date</th>\n",
              "      <th>listing_close</th>\n",
              "      <th>returns</th>\n",
              "      <th>twitter_hacks</th>\n",
              "      <th>twitter_pessimistic_doubtful</th>\n",
              "      <th>twitter_banks</th>\n",
              "      <th>twitter_selling</th>\n",
              "      <th>twitter_market_manipulation</th>\n",
              "      <th>twitter_de_centralisation</th>\n",
              "      <th>twitter_angry</th>\n",
              "      <th>...</th>\n",
              "      <th>reddit_dip</th>\n",
              "      <th>reddit_launch</th>\n",
              "      <th>reddit_fomo_theme</th>\n",
              "      <th>reddit_advice_support</th>\n",
              "      <th>reddit_rebranding</th>\n",
              "      <th>reddit_wallet</th>\n",
              "      <th>reddit_good_news</th>\n",
              "      <th>reddit_problems_and_issues</th>\n",
              "      <th>reddit_mining</th>\n",
              "      <th>reddit_waiting</th>\n",
              "    </tr>\n",
              "  </thead>\n",
              "  <tbody>\n",
              "    <tr>\n",
              "      <th>0</th>\n",
              "      <td>2016-11-01 01:00:00</td>\n",
              "      <td>706.00</td>\n",
              "      <td>NaN</td>\n",
              "      <td>0</td>\n",
              "      <td>0</td>\n",
              "      <td>0</td>\n",
              "      <td>1</td>\n",
              "      <td>0</td>\n",
              "      <td>0</td>\n",
              "      <td>0</td>\n",
              "      <td>...</td>\n",
              "      <td>0</td>\n",
              "      <td>1</td>\n",
              "      <td>0</td>\n",
              "      <td>13</td>\n",
              "      <td>0</td>\n",
              "      <td>0</td>\n",
              "      <td>4</td>\n",
              "      <td>1</td>\n",
              "      <td>3</td>\n",
              "      <td>3</td>\n",
              "    </tr>\n",
              "    <tr>\n",
              "      <th>1</th>\n",
              "      <td>2016-11-01 02:00:00</td>\n",
              "      <td>709.99</td>\n",
              "      <td>-0.005636</td>\n",
              "      <td>1</td>\n",
              "      <td>0</td>\n",
              "      <td>0</td>\n",
              "      <td>1</td>\n",
              "      <td>0</td>\n",
              "      <td>1</td>\n",
              "      <td>0</td>\n",
              "      <td>...</td>\n",
              "      <td>0</td>\n",
              "      <td>0</td>\n",
              "      <td>0</td>\n",
              "      <td>10</td>\n",
              "      <td>0</td>\n",
              "      <td>2</td>\n",
              "      <td>1</td>\n",
              "      <td>1</td>\n",
              "      <td>0</td>\n",
              "      <td>1</td>\n",
              "    </tr>\n",
              "    <tr>\n",
              "      <th>2</th>\n",
              "      <td>2016-11-01 03:00:00</td>\n",
              "      <td>708.54</td>\n",
              "      <td>0.002044</td>\n",
              "      <td>0</td>\n",
              "      <td>0</td>\n",
              "      <td>0</td>\n",
              "      <td>0</td>\n",
              "      <td>0</td>\n",
              "      <td>0</td>\n",
              "      <td>0</td>\n",
              "      <td>...</td>\n",
              "      <td>0</td>\n",
              "      <td>0</td>\n",
              "      <td>0</td>\n",
              "      <td>8</td>\n",
              "      <td>0</td>\n",
              "      <td>2</td>\n",
              "      <td>1</td>\n",
              "      <td>5</td>\n",
              "      <td>3</td>\n",
              "      <td>0</td>\n",
              "    </tr>\n",
              "    <tr>\n",
              "      <th>3</th>\n",
              "      <td>2016-11-01 04:00:00</td>\n",
              "      <td>702.85</td>\n",
              "      <td>0.008063</td>\n",
              "      <td>0</td>\n",
              "      <td>0</td>\n",
              "      <td>1</td>\n",
              "      <td>0</td>\n",
              "      <td>0</td>\n",
              "      <td>0</td>\n",
              "      <td>0</td>\n",
              "      <td>...</td>\n",
              "      <td>0</td>\n",
              "      <td>0</td>\n",
              "      <td>0</td>\n",
              "      <td>4</td>\n",
              "      <td>0</td>\n",
              "      <td>1</td>\n",
              "      <td>1</td>\n",
              "      <td>0</td>\n",
              "      <td>0</td>\n",
              "      <td>0</td>\n",
              "    </tr>\n",
              "    <tr>\n",
              "      <th>4</th>\n",
              "      <td>2016-11-01 05:00:00</td>\n",
              "      <td>708.50</td>\n",
              "      <td>-0.008007</td>\n",
              "      <td>0</td>\n",
              "      <td>0</td>\n",
              "      <td>0</td>\n",
              "      <td>0</td>\n",
              "      <td>0</td>\n",
              "      <td>0</td>\n",
              "      <td>0</td>\n",
              "      <td>...</td>\n",
              "      <td>0</td>\n",
              "      <td>0</td>\n",
              "      <td>0</td>\n",
              "      <td>3</td>\n",
              "      <td>0</td>\n",
              "      <td>0</td>\n",
              "      <td>1</td>\n",
              "      <td>2</td>\n",
              "      <td>0</td>\n",
              "      <td>0</td>\n",
              "    </tr>\n",
              "  </tbody>\n",
              "</table>\n",
              "<p>5 rows × 256 columns</p>\n",
              "</div>\n",
              "    <div class=\"colab-df-buttons\">\n",
              "\n",
              "  <div class=\"colab-df-container\">\n",
              "    <button class=\"colab-df-convert\" onclick=\"convertToInteractive('df-8cdcb1a9-8f9e-4eb8-ac2f-c825e60fa5ba')\"\n",
              "            title=\"Convert this dataframe to an interactive table.\"\n",
              "            style=\"display:none;\">\n",
              "\n",
              "  <svg xmlns=\"http://www.w3.org/2000/svg\" height=\"24px\" viewBox=\"0 -960 960 960\">\n",
              "    <path d=\"M120-120v-720h720v720H120Zm60-500h600v-160H180v160Zm220 220h160v-160H400v160Zm0 220h160v-160H400v160ZM180-400h160v-160H180v160Zm440 0h160v-160H620v160ZM180-180h160v-160H180v160Zm440 0h160v-160H620v160Z\"/>\n",
              "  </svg>\n",
              "    </button>\n",
              "\n",
              "  <style>\n",
              "    .colab-df-container {\n",
              "      display:flex;\n",
              "      gap: 12px;\n",
              "    }\n",
              "\n",
              "    .colab-df-convert {\n",
              "      background-color: #E8F0FE;\n",
              "      border: none;\n",
              "      border-radius: 50%;\n",
              "      cursor: pointer;\n",
              "      display: none;\n",
              "      fill: #1967D2;\n",
              "      height: 32px;\n",
              "      padding: 0 0 0 0;\n",
              "      width: 32px;\n",
              "    }\n",
              "\n",
              "    .colab-df-convert:hover {\n",
              "      background-color: #E2EBFA;\n",
              "      box-shadow: 0px 1px 2px rgba(60, 64, 67, 0.3), 0px 1px 3px 1px rgba(60, 64, 67, 0.15);\n",
              "      fill: #174EA6;\n",
              "    }\n",
              "\n",
              "    .colab-df-buttons div {\n",
              "      margin-bottom: 4px;\n",
              "    }\n",
              "\n",
              "    [theme=dark] .colab-df-convert {\n",
              "      background-color: #3B4455;\n",
              "      fill: #D2E3FC;\n",
              "    }\n",
              "\n",
              "    [theme=dark] .colab-df-convert:hover {\n",
              "      background-color: #434B5C;\n",
              "      box-shadow: 0px 1px 3px 1px rgba(0, 0, 0, 0.15);\n",
              "      filter: drop-shadow(0px 1px 2px rgba(0, 0, 0, 0.3));\n",
              "      fill: #FFFFFF;\n",
              "    }\n",
              "  </style>\n",
              "\n",
              "    <script>\n",
              "      const buttonEl =\n",
              "        document.querySelector('#df-8cdcb1a9-8f9e-4eb8-ac2f-c825e60fa5ba button.colab-df-convert');\n",
              "      buttonEl.style.display =\n",
              "        google.colab.kernel.accessAllowed ? 'block' : 'none';\n",
              "\n",
              "      async function convertToInteractive(key) {\n",
              "        const element = document.querySelector('#df-8cdcb1a9-8f9e-4eb8-ac2f-c825e60fa5ba');\n",
              "        const dataTable =\n",
              "          await google.colab.kernel.invokeFunction('convertToInteractive',\n",
              "                                                    [key], {});\n",
              "        if (!dataTable) return;\n",
              "\n",
              "        const docLinkHtml = 'Like what you see? Visit the ' +\n",
              "          '<a target=\"_blank\" href=https://colab.research.google.com/notebooks/data_table.ipynb>data table notebook</a>'\n",
              "          + ' to learn more about interactive tables.';\n",
              "        element.innerHTML = '';\n",
              "        dataTable['output_type'] = 'display_data';\n",
              "        await google.colab.output.renderOutput(dataTable, element);\n",
              "        const docLink = document.createElement('div');\n",
              "        docLink.innerHTML = docLinkHtml;\n",
              "        element.appendChild(docLink);\n",
              "      }\n",
              "    </script>\n",
              "  </div>\n",
              "\n",
              "\n",
              "<div id=\"df-096a84f0-2fc2-4fc6-a8f5-4d525e1dd6f6\">\n",
              "  <button class=\"colab-df-quickchart\" onclick=\"quickchart('df-096a84f0-2fc2-4fc6-a8f5-4d525e1dd6f6')\"\n",
              "            title=\"Suggest charts\"\n",
              "            style=\"display:none;\">\n",
              "\n",
              "<svg xmlns=\"http://www.w3.org/2000/svg\" height=\"24px\"viewBox=\"0 0 24 24\"\n",
              "     width=\"24px\">\n",
              "    <g>\n",
              "        <path d=\"M19 3H5c-1.1 0-2 .9-2 2v14c0 1.1.9 2 2 2h14c1.1 0 2-.9 2-2V5c0-1.1-.9-2-2-2zM9 17H7v-7h2v7zm4 0h-2V7h2v10zm4 0h-2v-4h2v4z\"/>\n",
              "    </g>\n",
              "</svg>\n",
              "  </button>\n",
              "\n",
              "<style>\n",
              "  .colab-df-quickchart {\n",
              "      --bg-color: #E8F0FE;\n",
              "      --fill-color: #1967D2;\n",
              "      --hover-bg-color: #E2EBFA;\n",
              "      --hover-fill-color: #174EA6;\n",
              "      --disabled-fill-color: #AAA;\n",
              "      --disabled-bg-color: #DDD;\n",
              "  }\n",
              "\n",
              "  [theme=dark] .colab-df-quickchart {\n",
              "      --bg-color: #3B4455;\n",
              "      --fill-color: #D2E3FC;\n",
              "      --hover-bg-color: #434B5C;\n",
              "      --hover-fill-color: #FFFFFF;\n",
              "      --disabled-bg-color: #3B4455;\n",
              "      --disabled-fill-color: #666;\n",
              "  }\n",
              "\n",
              "  .colab-df-quickchart {\n",
              "    background-color: var(--bg-color);\n",
              "    border: none;\n",
              "    border-radius: 50%;\n",
              "    cursor: pointer;\n",
              "    display: none;\n",
              "    fill: var(--fill-color);\n",
              "    height: 32px;\n",
              "    padding: 0;\n",
              "    width: 32px;\n",
              "  }\n",
              "\n",
              "  .colab-df-quickchart:hover {\n",
              "    background-color: var(--hover-bg-color);\n",
              "    box-shadow: 0 1px 2px rgba(60, 64, 67, 0.3), 0 1px 3px 1px rgba(60, 64, 67, 0.15);\n",
              "    fill: var(--button-hover-fill-color);\n",
              "  }\n",
              "\n",
              "  .colab-df-quickchart-complete:disabled,\n",
              "  .colab-df-quickchart-complete:disabled:hover {\n",
              "    background-color: var(--disabled-bg-color);\n",
              "    fill: var(--disabled-fill-color);\n",
              "    box-shadow: none;\n",
              "  }\n",
              "\n",
              "  .colab-df-spinner {\n",
              "    border: 2px solid var(--fill-color);\n",
              "    border-color: transparent;\n",
              "    border-bottom-color: var(--fill-color);\n",
              "    animation:\n",
              "      spin 1s steps(1) infinite;\n",
              "  }\n",
              "\n",
              "  @keyframes spin {\n",
              "    0% {\n",
              "      border-color: transparent;\n",
              "      border-bottom-color: var(--fill-color);\n",
              "      border-left-color: var(--fill-color);\n",
              "    }\n",
              "    20% {\n",
              "      border-color: transparent;\n",
              "      border-left-color: var(--fill-color);\n",
              "      border-top-color: var(--fill-color);\n",
              "    }\n",
              "    30% {\n",
              "      border-color: transparent;\n",
              "      border-left-color: var(--fill-color);\n",
              "      border-top-color: var(--fill-color);\n",
              "      border-right-color: var(--fill-color);\n",
              "    }\n",
              "    40% {\n",
              "      border-color: transparent;\n",
              "      border-right-color: var(--fill-color);\n",
              "      border-top-color: var(--fill-color);\n",
              "    }\n",
              "    60% {\n",
              "      border-color: transparent;\n",
              "      border-right-color: var(--fill-color);\n",
              "    }\n",
              "    80% {\n",
              "      border-color: transparent;\n",
              "      border-right-color: var(--fill-color);\n",
              "      border-bottom-color: var(--fill-color);\n",
              "    }\n",
              "    90% {\n",
              "      border-color: transparent;\n",
              "      border-bottom-color: var(--fill-color);\n",
              "    }\n",
              "  }\n",
              "</style>\n",
              "\n",
              "  <script>\n",
              "    async function quickchart(key) {\n",
              "      const quickchartButtonEl =\n",
              "        document.querySelector('#' + key + ' button');\n",
              "      quickchartButtonEl.disabled = true;  // To prevent multiple clicks.\n",
              "      quickchartButtonEl.classList.add('colab-df-spinner');\n",
              "      try {\n",
              "        const charts = await google.colab.kernel.invokeFunction(\n",
              "            'suggestCharts', [key], {});\n",
              "      } catch (error) {\n",
              "        console.error('Error during call to suggestCharts:', error);\n",
              "      }\n",
              "      quickchartButtonEl.classList.remove('colab-df-spinner');\n",
              "      quickchartButtonEl.classList.add('colab-df-quickchart-complete');\n",
              "    }\n",
              "    (() => {\n",
              "      let quickchartButtonEl =\n",
              "        document.querySelector('#df-096a84f0-2fc2-4fc6-a8f5-4d525e1dd6f6 button');\n",
              "      quickchartButtonEl.style.display =\n",
              "        google.colab.kernel.accessAllowed ? 'block' : 'none';\n",
              "    })();\n",
              "  </script>\n",
              "</div>\n",
              "\n",
              "    </div>\n",
              "  </div>\n"
            ],
            "application/vnd.google.colaboratory.intrinsic+json": {
              "type": "dataframe",
              "variable_name": "df"
            }
          },
          "metadata": {},
          "execution_count": 40
        }
      ]
    },
    {
      "cell_type": "code",
      "source": [
        "df['date'].head()"
      ],
      "metadata": {
        "colab": {
          "base_uri": "https://localhost:8080/"
        },
        "id": "GctSZXFKwR21",
        "outputId": "bac268aa-c43a-42ad-e750-a560adb563b6"
      },
      "id": "GctSZXFKwR21",
      "execution_count": 41,
      "outputs": [
        {
          "output_type": "execute_result",
          "data": {
            "text/plain": [
              "0    2016-11-01 01:00:00\n",
              "1    2016-11-01 02:00:00\n",
              "2    2016-11-01 03:00:00\n",
              "3    2016-11-01 04:00:00\n",
              "4    2016-11-01 05:00:00\n",
              "Name: date, dtype: object"
            ]
          },
          "metadata": {},
          "execution_count": 41
        }
      ]
    },
    {
      "cell_type": "code",
      "source": [
        "# Drop rows with missing dates\n",
        "df.dropna(subset=['date'], inplace=True)\n",
        "\n",
        "# Filter dataframe based on date range\n",
        "df = df.loc[(df['date'] >= '2016-01-01') & (df['date'] <= '2024-12-31')]\n",
        "\n",
        "# Convert 'date' column to datetime format\n",
        "df['date'] = pd.to_datetime(df['date'])\n",
        "\n",
        "# Set 'date' column as index\n",
        "df.set_index('date', inplace=True)\n",
        "\n",
        "# Display the first few rows of the dataframe\n",
        "print(df.head())"
      ],
      "metadata": {
        "colab": {
          "base_uri": "https://localhost:8080/"
        },
        "id": "5wg6ZxsbvFCS",
        "outputId": "0b73da3e-e572-4153-a1d1-4d2d3bba800f"
      },
      "id": "5wg6ZxsbvFCS",
      "execution_count": 42,
      "outputs": [
        {
          "output_type": "stream",
          "name": "stdout",
          "text": [
            "                     listing_close   returns  twitter_hacks  \\\n",
            "date                                                          \n",
            "2016-11-01 01:00:00         706.00       NaN              0   \n",
            "2016-11-01 02:00:00         709.99 -0.005636              1   \n",
            "2016-11-01 03:00:00         708.54  0.002044              0   \n",
            "2016-11-01 04:00:00         702.85  0.008063              0   \n",
            "2016-11-01 05:00:00         708.50 -0.008007              0   \n",
            "\n",
            "                     twitter_pessimistic_doubtful  twitter_banks  \\\n",
            "date                                                               \n",
            "2016-11-01 01:00:00                             0              0   \n",
            "2016-11-01 02:00:00                             0              0   \n",
            "2016-11-01 03:00:00                             0              0   \n",
            "2016-11-01 04:00:00                             0              1   \n",
            "2016-11-01 05:00:00                             0              0   \n",
            "\n",
            "                     twitter_selling  twitter_market_manipulation  \\\n",
            "date                                                                \n",
            "2016-11-01 01:00:00                1                            0   \n",
            "2016-11-01 02:00:00                1                            0   \n",
            "2016-11-01 03:00:00                0                            0   \n",
            "2016-11-01 04:00:00                0                            0   \n",
            "2016-11-01 05:00:00                0                            0   \n",
            "\n",
            "                     twitter_de_centralisation  twitter_angry  twitter_etf  \\\n",
            "date                                                                         \n",
            "2016-11-01 01:00:00                          0              0            0   \n",
            "2016-11-01 02:00:00                          1              0            0   \n",
            "2016-11-01 03:00:00                          0              0            0   \n",
            "2016-11-01 04:00:00                          0              0            0   \n",
            "2016-11-01 05:00:00                          0              0            1   \n",
            "\n",
            "                     ...  reddit_dip  reddit_launch  reddit_fomo_theme  \\\n",
            "date                 ...                                                 \n",
            "2016-11-01 01:00:00  ...           0              1                  0   \n",
            "2016-11-01 02:00:00  ...           0              0                  0   \n",
            "2016-11-01 03:00:00  ...           0              0                  0   \n",
            "2016-11-01 04:00:00  ...           0              0                  0   \n",
            "2016-11-01 05:00:00  ...           0              0                  0   \n",
            "\n",
            "                     reddit_advice_support  reddit_rebranding  reddit_wallet  \\\n",
            "date                                                                           \n",
            "2016-11-01 01:00:00                     13                  0              0   \n",
            "2016-11-01 02:00:00                     10                  0              2   \n",
            "2016-11-01 03:00:00                      8                  0              2   \n",
            "2016-11-01 04:00:00                      4                  0              1   \n",
            "2016-11-01 05:00:00                      3                  0              0   \n",
            "\n",
            "                     reddit_good_news  reddit_problems_and_issues  \\\n",
            "date                                                                \n",
            "2016-11-01 01:00:00                 4                           1   \n",
            "2016-11-01 02:00:00                 1                           1   \n",
            "2016-11-01 03:00:00                 1                           5   \n",
            "2016-11-01 04:00:00                 1                           0   \n",
            "2016-11-01 05:00:00                 1                           2   \n",
            "\n",
            "                     reddit_mining  reddit_waiting  \n",
            "date                                                \n",
            "2016-11-01 01:00:00              3               3  \n",
            "2016-11-01 02:00:00              0               1  \n",
            "2016-11-01 03:00:00              3               0  \n",
            "2016-11-01 04:00:00              0               0  \n",
            "2016-11-01 05:00:00              0               0  \n",
            "\n",
            "[5 rows x 255 columns]\n"
          ]
        }
      ]
    },
    {
      "cell_type": "code",
      "source": [
        "# Dropping rows where 'return' column has NaN values\n",
        "df_cleaned = df.dropna(subset=['returns'])\n",
        "\n",
        "# Displaying the cleaned DataFrame\n",
        "print(df_cleaned)"
      ],
      "metadata": {
        "colab": {
          "base_uri": "https://localhost:8080/"
        },
        "id": "IBrth1A10fwY",
        "outputId": "5d9f90d4-2bcf-4867-bc35-2efedf9d108f"
      },
      "id": "IBrth1A10fwY",
      "execution_count": 43,
      "outputs": [
        {
          "output_type": "stream",
          "name": "stdout",
          "text": [
            "                     listing_close   returns  twitter_hacks  \\\n",
            "date                                                          \n",
            "2016-11-01 02:00:00         709.99 -0.005636              1   \n",
            "2016-11-01 03:00:00         708.54  0.002044              0   \n",
            "2016-11-01 04:00:00         702.85  0.008063              0   \n",
            "2016-11-01 05:00:00         708.50 -0.008007              0   \n",
            "2016-11-01 06:00:00         709.30 -0.001129              0   \n",
            "...                            ...       ...            ...   \n",
            "2024-04-23 11:00:00       66064.00  0.002464              0   \n",
            "2024-04-23 12:00:00       66137.00 -0.001104              0   \n",
            "2024-04-23 13:00:00       66544.00 -0.006135              0   \n",
            "2024-04-23 14:00:00       66947.00 -0.006038              0   \n",
            "2024-04-23 15:00:00       66393.00  0.008310              1   \n",
            "\n",
            "                     twitter_pessimistic_doubtful  twitter_banks  \\\n",
            "date                                                               \n",
            "2016-11-01 02:00:00                             0              0   \n",
            "2016-11-01 03:00:00                             0              0   \n",
            "2016-11-01 04:00:00                             0              1   \n",
            "2016-11-01 05:00:00                             0              0   \n",
            "2016-11-01 06:00:00                             0              0   \n",
            "...                                           ...            ...   \n",
            "2024-04-23 11:00:00                             0              0   \n",
            "2024-04-23 12:00:00                             0              0   \n",
            "2024-04-23 13:00:00                             1              1   \n",
            "2024-04-23 14:00:00                             0              3   \n",
            "2024-04-23 15:00:00                             2              0   \n",
            "\n",
            "                     twitter_selling  twitter_market_manipulation  \\\n",
            "date                                                                \n",
            "2016-11-01 02:00:00                1                            0   \n",
            "2016-11-01 03:00:00                0                            0   \n",
            "2016-11-01 04:00:00                0                            0   \n",
            "2016-11-01 05:00:00                0                            0   \n",
            "2016-11-01 06:00:00                0                            0   \n",
            "...                              ...                          ...   \n",
            "2024-04-23 11:00:00                1                            0   \n",
            "2024-04-23 12:00:00                0                            0   \n",
            "2024-04-23 13:00:00                0                            0   \n",
            "2024-04-23 14:00:00                2                            0   \n",
            "2024-04-23 15:00:00                0                            0   \n",
            "\n",
            "                     twitter_de_centralisation  twitter_angry  twitter_etf  \\\n",
            "date                                                                         \n",
            "2016-11-01 02:00:00                          1              0            0   \n",
            "2016-11-01 03:00:00                          0              0            0   \n",
            "2016-11-01 04:00:00                          0              0            0   \n",
            "2016-11-01 05:00:00                          0              0            1   \n",
            "2016-11-01 06:00:00                          0              0            0   \n",
            "...                                        ...            ...          ...   \n",
            "2024-04-23 11:00:00                          0              0            1   \n",
            "2024-04-23 12:00:00                          0              0            1   \n",
            "2024-04-23 13:00:00                          0              1            2   \n",
            "2024-04-23 14:00:00                          1              0            0   \n",
            "2024-04-23 15:00:00                          3              1            0   \n",
            "\n",
            "                     ...  reddit_dip  reddit_launch  reddit_fomo_theme  \\\n",
            "date                 ...                                                 \n",
            "2016-11-01 02:00:00  ...           0              0                  0   \n",
            "2016-11-01 03:00:00  ...           0              0                  0   \n",
            "2016-11-01 04:00:00  ...           0              0                  0   \n",
            "2016-11-01 05:00:00  ...           0              0                  0   \n",
            "2016-11-01 06:00:00  ...           0              0                  0   \n",
            "...                  ...         ...            ...                ...   \n",
            "2024-04-23 11:00:00  ...           0              1                  0   \n",
            "2024-04-23 12:00:00  ...           3              1                  0   \n",
            "2024-04-23 13:00:00  ...           1              0                  0   \n",
            "2024-04-23 14:00:00  ...           2              1                  1   \n",
            "2024-04-23 15:00:00  ...           1              0                  0   \n",
            "\n",
            "                     reddit_advice_support  reddit_rebranding  reddit_wallet  \\\n",
            "date                                                                           \n",
            "2016-11-01 02:00:00                     10                  0              2   \n",
            "2016-11-01 03:00:00                      8                  0              2   \n",
            "2016-11-01 04:00:00                      4                  0              1   \n",
            "2016-11-01 05:00:00                      3                  0              0   \n",
            "2016-11-01 06:00:00                      5                  0              1   \n",
            "...                                    ...                ...            ...   \n",
            "2024-04-23 11:00:00                     28                  0              5   \n",
            "2024-04-23 12:00:00                     33                  0              8   \n",
            "2024-04-23 13:00:00                     31                  0              8   \n",
            "2024-04-23 14:00:00                     53                  0              5   \n",
            "2024-04-23 15:00:00                     41                  0              8   \n",
            "\n",
            "                     reddit_good_news  reddit_problems_and_issues  \\\n",
            "date                                                                \n",
            "2016-11-01 02:00:00                 1                           1   \n",
            "2016-11-01 03:00:00                 1                           5   \n",
            "2016-11-01 04:00:00                 1                           0   \n",
            "2016-11-01 05:00:00                 1                           2   \n",
            "2016-11-01 06:00:00                 2                           1   \n",
            "...                               ...                         ...   \n",
            "2024-04-23 11:00:00                15                           9   \n",
            "2024-04-23 12:00:00                10                           5   \n",
            "2024-04-23 13:00:00                14                          10   \n",
            "2024-04-23 14:00:00                25                           4   \n",
            "2024-04-23 15:00:00                12                           5   \n",
            "\n",
            "                     reddit_mining  reddit_waiting  \n",
            "date                                                \n",
            "2016-11-01 02:00:00              0               1  \n",
            "2016-11-01 03:00:00              3               0  \n",
            "2016-11-01 04:00:00              0               0  \n",
            "2016-11-01 05:00:00              0               0  \n",
            "2016-11-01 06:00:00              1               1  \n",
            "...                            ...             ...  \n",
            "2024-04-23 11:00:00              9               0  \n",
            "2024-04-23 12:00:00              6               1  \n",
            "2024-04-23 13:00:00              5               0  \n",
            "2024-04-23 14:00:00             11               2  \n",
            "2024-04-23 15:00:00              8               1  \n",
            "\n",
            "[65474 rows x 255 columns]\n"
          ]
        }
      ]
    },
    {
      "cell_type": "code",
      "execution_count": 55,
      "id": "9657316c",
      "metadata": {
        "id": "9657316c",
        "outputId": "2afc2cec-7396-4b71-d08b-4d89ba06202b",
        "colab": {
          "base_uri": "https://localhost:8080/",
          "height": 444
        }
      },
      "outputs": [
        {
          "output_type": "display_data",
          "data": {
            "text/plain": [
              "<Figure size 640x480 with 1 Axes>"
            ],
            "image/png": "[encoded data removed]"
          },
          "metadata": {}
        }
      ],
      "source": [
        "#Part - 1\n",
        "#Plotting the time series of value-weighted monthly factor returns for the Ret factor\n",
        "df['returns'].plot() # Plot the 'listing_close' column directly, since 'date' is the index\n",
        "plt.xlabel('date')\n",
        "plt.ylabel('listing Close Factor')\n",
        "plt.title('Time Series of Listing Close')\n",
        "plt.show()"
      ]
    },
    {
      "cell_type": "code",
      "source": [
        "#Calculating the annualized mean and standard deviation of this return series\n",
        "annualized_mean = df['returns'].mean() * 12\n",
        "annualized_std_dev = df['returns'].std() * math.sqrt(12)\n",
        "print(\"Annualized Mean of this return series is: \"+str(annualized_mean))\n",
        "print(\"Annualized Standard Deviation of this return series is: \"+str(annualized_std_dev))"
      ],
      "metadata": {
        "colab": {
          "base_uri": "https://localhost:8080/"
        },
        "id": "xYdwpdce2fS1",
        "outputId": "7bcf8df3-1d50-4dee-b352-06b1259006c5"
      },
      "id": "xYdwpdce2fS1",
      "execution_count": 56,
      "outputs": [
        {
          "output_type": "stream",
          "name": "stdout",
          "text": [
            "Annualized Mean of this return series is: -0.0008324807789645856\n",
            "Annualized Standard Deviation of this return series is: 0.028586033228602956\n"
          ]
        }
      ]
    },
    {
      "cell_type": "code",
      "source": [
        "listing_close = df['returns']"
      ],
      "metadata": {
        "id": "aYF0zL6REdkv"
      },
      "id": "aYF0zL6REdkv",
      "execution_count": 57,
      "outputs": []
    },
    {
      "cell_type": "code",
      "source": [
        "print( listing_close )"
      ],
      "metadata": {
        "colab": {
          "base_uri": "https://localhost:8080/"
        },
        "id": "dI7tSg0vElxi",
        "outputId": "e9b9897b-3406-41ac-e11d-7e334eaf5188"
      },
      "id": "dI7tSg0vElxi",
      "execution_count": 58,
      "outputs": [
        {
          "output_type": "stream",
          "name": "stdout",
          "text": [
            "date\n",
            "2016-11-01 02:00:00   -0.005636\n",
            "2016-11-01 03:00:00    0.002044\n",
            "2016-11-01 04:00:00    0.008063\n",
            "2016-11-01 05:00:00   -0.008007\n",
            "2016-11-01 06:00:00   -0.001129\n",
            "                         ...   \n",
            "2024-04-23 11:00:00    0.002464\n",
            "2024-04-23 12:00:00   -0.001104\n",
            "2024-04-23 13:00:00   -0.006135\n",
            "2024-04-23 14:00:00   -0.006038\n",
            "2024-04-23 15:00:00    0.008310\n",
            "Name: returns, Length: 65474, dtype: float64\n"
          ]
        }
      ]
    },
    {
      "cell_type": "code",
      "source": [
        "df = df.dropna(subset=['returns'])"
      ],
      "metadata": {
        "id": "3Q98z5NUzUo4"
      },
      "id": "3Q98z5NUzUo4",
      "execution_count": 59,
      "outputs": []
    },
    {
      "cell_type": "code",
      "source": [
        "\n",
        "# Plot the Autocorrelation Function (ACF) with 60 lags\n",
        "plot_acf(listing_close, lags=60)\n",
        "\n",
        "# Show the plot\n",
        "plt.show()"
      ],
      "metadata": {
        "colab": {
          "base_uri": "https://localhost:8080/",
          "height": 452
        },
        "id": "S8uN2ux1-XjZ",
        "outputId": "1637d0bf-23ac-4616-c23d-868351e597b1"
      },
      "id": "S8uN2ux1-XjZ",
      "execution_count": 60,
      "outputs": [
        {
          "output_type": "display_data",
          "data": {
            "text/plain": [
              "<Figure size 640x480 with 1 Axes>"
            ],
            "image/png": "[encoded data removed]"
          },
          "metadata": {}
        }
      ]
    },
    {
      "cell_type": "code",
      "source": [
        "#Part - 2\n",
        "plot_acf(listing_close, lags = 60)\n",
        "pyplot.show()"
      ],
      "metadata": {
        "colab": {
          "base_uri": "https://localhost:8080/",
          "height": 452
        },
        "id": "ngMC7ffF2_wP",
        "outputId": "e685644d-9e7e-4704-b853-21ca66575da5"
      },
      "id": "ngMC7ffF2_wP",
      "execution_count": 61,
      "outputs": [
        {
          "output_type": "display_data",
          "data": {
            "text/plain": [
              "<Figure size 640x480 with 1 Axes>"
            ],
            "image/png": "[encoded data removed]"
          },
          "metadata": {}
        }
      ]
    },
    {
      "cell_type": "code",
      "source": [
        "import numpy as np\n",
        "\n",
        "# Example closing prices\n",
        "closing_prices = [100, 102, 101, 105]\n",
        "\n",
        "# Calculate log-changes\n",
        "log_changes = np.log(np.array(closing_prices[1:]) / np.array(closing_prices[:-1]))\n",
        "\n",
        "print(log_changes)\n"
      ],
      "metadata": {
        "colab": {
          "base_uri": "https://localhost:8080/"
        },
        "id": "JTSDzX9a-E7w",
        "outputId": "933c9740-d362-428d-9380-c566d5b5f094"
      },
      "id": "JTSDzX9a-E7w",
      "execution_count": 62,
      "outputs": [
        {
          "output_type": "stream",
          "name": "stdout",
          "text": [
            "[ 0.01980263 -0.0098523   0.03883983]\n"
          ]
        }
      ]
    },
    {
      "cell_type": "code",
      "source": [
        "returns = np.log(np.array(closing_prices[1:]) / np.array(closing_prices[:-1]))\n",
        "\n",
        "# Calculate autocorrelation coefficients\n",
        "ret_autocorrelation_coefficients = acf(returns, nlags=60, fft=False)\n",
        "\n",
        "print(ret_autocorrelation_coefficients)"
      ],
      "metadata": {
        "colab": {
          "base_uri": "https://localhost:8080/"
        },
        "id": "uni5cQ0U5W7W",
        "outputId": "3aa94f4f-fb43-47fb-fdc3-51dd37f87694"
      },
      "id": "uni5cQ0U5W7W",
      "execution_count": 64,
      "outputs": [
        {
          "output_type": "stream",
          "name": "stdout",
          "text": [
            "[ 1.         -0.56635115  0.06635115]\n"
          ]
        }
      ]
    },
    {
      "cell_type": "code",
      "source": [
        "ret_autocorrelation_coefficients = acf(returns, nlags=60, fft=False)  # Correction here"
      ],
      "metadata": {
        "id": "p5-JJPj72l_F"
      },
      "id": "p5-JJPj72l_F",
      "execution_count": 65,
      "outputs": []
    },
    {
      "cell_type": "code",
      "execution_count": 67,
      "id": "bd971eb0",
      "metadata": {
        "id": "bd971eb0",
        "outputId": "a9b958c1-1e1d-41b6-9653-845218c3785e",
        "colab": {
          "base_uri": "https://localhost:8080/",
          "height": 469
        }
      },
      "outputs": [
        {
          "output_type": "execute_result",
          "data": {
            "text/plain": [
              "[<matplotlib.lines.Line2D at 0x798677d0b6a0>]"
            ]
          },
          "metadata": {},
          "execution_count": 67
        },
        {
          "output_type": "display_data",
          "data": {
            "text/plain": [
              "<Figure size 640x480 with 1 Axes>"
            ],
            "image/png": "[encoded data removed]"
          },
          "metadata": {}
        }
      ],
      "source": [
        "#print(\"ret Autocorrelation Coefficients are as follows: \")\n",
        "#print(ret_autocorrelation_coefficients)\n",
        "\n",
        "def cumulative_sum_autocorrelations(n, ret_acr_coeff):\n",
        "    cumsum_acr = 0\n",
        "    # Make sure you don't go beyond the length of the array\n",
        "    for i in range(min(n, len(ret_acr_coeff))):\n",
        "        cumsum_acr += ret_acr_coeff[i]\n",
        "    return cumsum_acr\n",
        "\n",
        "cumulative_sum_acr = cumulative_sum_autocorrelations(5, ret_autocorrelation_coefficients)\n",
        "#print(\"\\nCumulative Sum of 5 Autocorrelations is: \" +str(cumulative_sum_acr))\n",
        "\n",
        "cumsum_acr_array = []\n",
        "for i in range (0, 60):\n",
        "    cumsum_acr_array.append(cumulative_sum_autocorrelations(i, ret_autocorrelation_coefficients))\n",
        "\n",
        "x = np.linspace(1, 60, num = 60)\n",
        "y = cumsum_acr_array\n",
        "plt.title(\"Plot of Cumulative Sum of Autocorrelations\")\n",
        "plt.plot(x, y, color=\"red\")"
      ]
    },
    {
      "cell_type": "markdown",
      "id": "33cb5f7a",
      "metadata": {
        "id": "33cb5f7a"
      },
      "source": [
        "* Explanation of Plots:\n",
        "As observed in the plot of cumulative sum of autocorrelations, the curve is increasing initially as we have positive autocorrelations for the first 20 orders. As we get more negative autocorrelations, the cumulative sum begins to reduce. The first plot of autocorrelation coefficients exhibits stationarity and therefore exhibits qualities of predictability as well as the first plot is largely centralised."
      ]
    },
    {
      "cell_type": "markdown",
      "id": "149ef286",
      "metadata": {
        "id": "149ef286"
      },
      "source": [
        "* The p-value is smaller than 0.05. Hence we reject the null hypothesis, and it means that the RMW series exhibits autocorrelation."
      ]
    },
    {
      "cell_type": "code",
      "source": [
        "# Check the length of the DataFrame\n",
        "print(len(df))"
      ],
      "metadata": {
        "colab": {
          "base_uri": "https://localhost:8080/"
        },
        "id": "umBqBeaxO-TY",
        "outputId": "75731bdd-fdff-4ae3-cb68-1670cdb20056"
      },
      "id": "umBqBeaxO-TY",
      "execution_count": 70,
      "outputs": [
        {
          "output_type": "stream",
          "name": "stdout",
          "text": [
            "65474\n"
          ]
        }
      ]
    },
    {
      "cell_type": "code",
      "source": [
        "print(df.index)"
      ],
      "metadata": {
        "colab": {
          "base_uri": "https://localhost:8080/"
        },
        "id": "RnxhplNsXfto",
        "outputId": "c9740da4-c912-4f9d-ab9a-61ad9f43bdf9"
      },
      "id": "RnxhplNsXfto",
      "execution_count": 71,
      "outputs": [
        {
          "output_type": "stream",
          "name": "stdout",
          "text": [
            "DatetimeIndex(['2016-11-01 02:00:00', '2016-11-01 03:00:00',\n",
            "               '2016-11-01 04:00:00', '2016-11-01 05:00:00',\n",
            "               '2016-11-01 06:00:00', '2016-11-01 07:00:00',\n",
            "               '2016-11-01 08:00:00', '2016-11-01 09:00:00',\n",
            "               '2016-11-01 10:00:00', '2016-11-01 11:00:00',\n",
            "               ...\n",
            "               '2024-04-23 06:00:00', '2024-04-23 07:00:00',\n",
            "               '2024-04-23 08:00:00', '2024-04-23 09:00:00',\n",
            "               '2024-04-23 10:00:00', '2024-04-23 11:00:00',\n",
            "               '2024-04-23 12:00:00', '2024-04-23 13:00:00',\n",
            "               '2024-04-23 14:00:00', '2024-04-23 15:00:00'],\n",
            "              dtype='datetime64[ns]', name='date', length=65474, freq=None)\n"
          ]
        }
      ]
    },
    {
      "cell_type": "code",
      "source": [
        "# Drop rows with NaN or infinite values in the 'ret' column\n",
        "df = df.replace([np.inf, -np.inf], np.nan).dropna(subset=['returns', 'listing_close'])\n",
        "\n",
        "# Define predictor and response variables\n",
        "y = df['returns']\n",
        "x = df[['listing_close']]  # Using 'Mkt-RF' as the predictor variable\n",
        "\n",
        "# Fit linear regression model\n",
        "model = sm.OLS(y, x).fit()\n",
        "\n",
        "# View model summary\n",
        "print(model.summary())\n"
      ],
      "metadata": {
        "colab": {
          "base_uri": "https://localhost:8080/"
        },
        "id": "VKF3gy-5YA5r",
        "outputId": "f38e2b40-5fb8-4d09-a5f5-9edf34d4496b"
      },
      "id": "VKF3gy-5YA5r",
      "execution_count": 74,
      "outputs": [
        {
          "output_type": "stream",
          "name": "stdout",
          "text": [
            "                                 OLS Regression Results                                \n",
            "=======================================================================================\n",
            "Dep. Variable:                returns   R-squared (uncentered):                   0.000\n",
            "Model:                            OLS   Adj. R-squared (uncentered):              0.000\n",
            "Method:                 Least Squares   F-statistic:                              3.357\n",
            "Date:                Wed, 03 Jul 2024   Prob (F-statistic):                      0.0669\n",
            "Time:                        09:24:02   Log-Likelihood:                      2.2119e+05\n",
            "No. Observations:               65474   AIC:                                 -4.424e+05\n",
            "Df Residuals:                   65473   BIC:                                 -4.424e+05\n",
            "Df Model:                           1                                                  \n",
            "Covariance Type:            nonrobust                                                  \n",
            "=================================================================================\n",
            "                    coef    std err          t      P>|t|      [0.025      0.975]\n",
            "---------------------------------------------------------------------------------\n",
            "listing_close -2.195e-09    1.2e-09     -1.832      0.067   -4.54e-09    1.53e-10\n",
            "==============================================================================\n",
            "Omnibus:                    19419.901   Durbin-Watson:                   2.066\n",
            "Prob(Omnibus):                  0.000   Jarque-Bera (JB):          2619635.170\n",
            "Skew:                           0.258   Prob(JB):                         0.00\n",
            "Kurtosis:                      33.984   Cond. No.                         1.00\n",
            "==============================================================================\n",
            "\n",
            "Notes:\n",
            "[1] R² is computed without centering (uncentered) since the model does not contain a constant.\n",
            "[2] Standard Errors assume that the covariance matrix of the errors is correctly specified.\n"
          ]
        }
      ]
    },
    {
      "cell_type": "markdown",
      "id": "9b699408",
      "metadata": {
        "id": "9b699408"
      },
      "source": [
        "In this analysis, we use linear regression to explore the relationship between the Returns and the listing_close. This model investigates how changes in past realized excess market returns influence the return factor, similar to the Ferson and Siegel procedure. This approach helps us gain insights into the potential efficiency of the return factor in relation to market signals."
      ]
    },
    {
      "cell_type": "code",
      "source": [
        "# Add a constant column to the exogenous variables\n",
        "x_with_const = sm.add_constant(x)\n",
        "\n",
        "# Fit linear regression model with the constant term\n",
        "model_with_const = sm.OLS(y, x_with_const).fit()\n",
        "\n",
        "# View model summary\n",
        "print(model_with_const.summary())\n",
        "\n",
        "# Perform White's test\n",
        "white_test = het_white(model_with_const.resid, model_with_const.model.exog)\n",
        "print(white_test)\n"
      ],
      "metadata": {
        "colab": {
          "base_uri": "https://localhost:8080/"
        },
        "id": "L5ciD4hbyQyj",
        "outputId": "8c6bb7dd-0e6b-4b0d-dc04-5a7f04a0e130"
      },
      "id": "L5ciD4hbyQyj",
      "execution_count": 75,
      "outputs": [
        {
          "output_type": "stream",
          "name": "stdout",
          "text": [
            "                            OLS Regression Results                            \n",
            "==============================================================================\n",
            "Dep. Variable:                returns   R-squared:                       0.000\n",
            "Model:                            OLS   Adj. R-squared:                 -0.000\n",
            "Method:                 Least Squares   F-statistic:                    0.1019\n",
            "Date:                Wed, 03 Jul 2024   Prob (F-statistic):              0.750\n",
            "Time:                        09:24:41   Log-Likelihood:             2.2119e+05\n",
            "No. Observations:               65474   AIC:                        -4.424e+05\n",
            "Df Residuals:                   65472   BIC:                        -4.424e+05\n",
            "Df Model:                           1                                         \n",
            "Covariance Type:            nonrobust                                         \n",
            "=================================================================================\n",
            "                    coef    std err          t      P>|t|      [0.025      0.975]\n",
            "---------------------------------------------------------------------------------\n",
            "const         -5.755e-05   4.91e-05     -1.171      0.241      -0.000    3.87e-05\n",
            "listing_close -5.824e-10   1.82e-09     -0.319      0.750   -4.16e-09    2.99e-09\n",
            "==============================================================================\n",
            "Omnibus:                    19429.578   Durbin-Watson:                   2.066\n",
            "Prob(Omnibus):                  0.000   Jarque-Bera (JB):          2620187.506\n",
            "Skew:                           0.260   Prob(JB):                         0.00\n",
            "Kurtosis:                      33.987   Cond. No.                     4.10e+04\n",
            "==============================================================================\n",
            "\n",
            "Notes:\n",
            "[1] Standard Errors assume that the covariance matrix of the errors is correctly specified.\n",
            "[2] The condition number is large, 4.1e+04. This might indicate that there are\n",
            "strong multicollinearity or other numerical problems.\n",
            "(57.993045124422764, 2.5525264839955765e-13, 29.020898967129572, 2.523289851579431e-13)\n"
          ]
        }
      ]
    },
    {
      "cell_type": "markdown",
      "source": [
        "The White's test is a statistical test used to detect the presence of heteroskedasticity in the residuals of a regression model. Heteroskedasticity refers to the situation where the variance of the error terms is not constant, which violates one of the key assumptions of the ordinary least squares (OLS) regression model. [1]\n",
        "\n",
        "The basic idea behind the White's test is as follows:\n",
        "\n",
        "Fit the original OLS regression model and obtain the residuals.\n",
        "\n",
        "Construct an auxiliary regression model where the dependent variable is the squared residuals from the original model, and the independent variables are:\n",
        "\n",
        "The original independent variables\n",
        "\n",
        "The squares of the original independent variables\n",
        "\n",
        "The cross-products of the original independent variables\n",
        "\n",
        "Compute the test statistic as the product of the number of observations (n) and the R-squared value from the auxiliary regression (nR^2).\n",
        "\n",
        "Compare the test statistic to a chi-square distribution with degrees of freedom equal to the number of independent variables in the auxiliary regression (excluding the intercept).\n",
        "\n",
        "If the test statistic is greater than the critical value from the chi-square distribution, then the null hypothesis of homoscedasticity (constant variance) is rejected, and there is evidence of heteroscedasticity.\n",
        "\n",
        "The key advantage of the White's test is that it does not require any assumptions about the form of the heteroscedasticity. It is a general test that can detect various types of heteroscedasticity patterns.\n",
        "\n",
        "If the White's test indicates the presence of heteroscedasticity, you can consider using alternative estimation methods, such as weighted least squares (WLS) or robust standard errors, to address the issue and obtain valid statistical inferences."
      ],
      "metadata": {
        "id": "eNeKL2GPf3Ti"
      },
      "id": "eNeKL2GPf3Ti"
    }
  ],
  "metadata": {
    "kernelspec": {
      "display_name": "Python 3 (ipykernel)",
      "language": "python",
      "name": "python3"
    },
    "language_info": {
      "codemirror_mode": {
        "name": "ipython",
        "version": 3
      },
      "file_extension": ".py",
      "mimetype": "text/x-python",
      "name": "python",
      "nbconvert_exporter": "python",
      "pygments_lexer": "ipython3",
      "version": "3.9.12"
    },
    "colab": {
      "provenance": []
    }
  },
  "nbformat": 4,
  "nbformat_minor": 5
}