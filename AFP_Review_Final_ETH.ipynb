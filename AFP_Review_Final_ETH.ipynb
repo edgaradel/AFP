{
  "cells": [
    {
      "cell_type": "markdown",
      "id": "a3085818",
      "metadata": {
        "id": "a3085818"
      },
      "source": [
        "## Advanced Finance Project-2 ETH\n",
        "<br>\n",
        "<br>\n"
      ]
    },
    {
      "cell_type": "markdown",
      "source": [
        "Building a simple autocorrelation-based forecasting model\n"
      ],
      "metadata": {
        "id": "Ms5EGNvqu_jA"
      },
      "id": "Ms5EGNvqu_jA"
    },
    {
      "cell_type": "markdown",
      "source": [
        "#1\n"
      ],
      "metadata": {
        "id": "rqS_C9d2p340"
      },
      "id": "rqS_C9d2p340"
    },
    {
      "cell_type": "code",
      "execution_count": 2,
      "id": "9884840d",
      "metadata": {
        "id": "9884840d"
      },
      "outputs": [],
      "source": [
        "import pandas as pd\n",
        "import numpy as np\n",
        "import math\n",
        "import matplotlib.pyplot as plt\n",
        "from datetime import datetime\n",
        "from scipy.stats import norm\n",
        "import sympy as sym\n",
        "import statsmodels.api\n",
        "from pandas import read_csv\n",
        "from matplotlib import pyplot\n",
        "from statsmodels.graphics.tsaplots import plot_acf\n",
        "from statsmodels.tsa.stattools import acf\n",
        "from sklearn.linear_model import LinearRegression\n",
        "from statsmodels.stats.diagnostic import het_white\n",
        "import statsmodels.api as sm"
      ]
    },
    {
      "cell_type": "markdown",
      "id": "9d5e9080",
      "metadata": {
        "id": "9d5e9080"
      },
      "source": [
        "## Question - 1"
      ]
    },
    {
      "cell_type": "code",
      "execution_count": 4,
      "id": "0555dcc3",
      "metadata": {
        "scrolled": false,
        "id": "0555dcc3"
      },
      "outputs": [],
      "source": [
        "#Question - 1\n",
        "#Reading the data from CSV file\n",
        "df = pd.read_excel('/content/augmento_eth_returns.xls')"
      ]
    },
    {
      "cell_type": "code",
      "source": [
        "df.head()"
      ],
      "metadata": {
        "colab": {
          "base_uri": "https://localhost:8080/",
          "height": 429
        },
        "id": "p3H-eJJMvhg9",
        "outputId": "8d12716a-8c74-43d1-d8ec-5e33a82a8f87"
      },
      "id": "p3H-eJJMvhg9",
      "execution_count": 5,
      "outputs": [
        {
          "output_type": "execute_result",
          "data": {
            "text/plain": [
              "                  date  listing_close   returns  twitter_hacks  \\\n",
              "0  2016-11-01 01:00:00         10.877       NaN              0   \n",
              "1  2016-11-01 02:00:00         10.860  0.001564              0   \n",
              "2  2016-11-01 03:00:00         10.744  0.010739              0   \n",
              "3  2016-11-01 04:00:00         10.716  0.002610              0   \n",
              "4  2016-11-01 05:00:00         10.761 -0.004191              0   \n",
              "\n",
              "   twitter_pessimistic_doubtful  twitter_banks  twitter_selling  \\\n",
              "0                             0              0                0   \n",
              "1                             0              0                0   \n",
              "2                             0              0                0   \n",
              "3                             0              0                0   \n",
              "4                             0              0                0   \n",
              "\n",
              "   twitter_market_manipulation  twitter_de_centralisation  twitter_angry  ...  \\\n",
              "0                            0                          0              0  ...   \n",
              "1                            0                          0              0  ...   \n",
              "2                            0                          0              0  ...   \n",
              "3                            0                          0              0  ...   \n",
              "4                            0                          0              0  ...   \n",
              "\n",
              "   reddit_dip  reddit_launch  reddit_fomo_theme  reddit_advice_support  \\\n",
              "0           0              0                  0                      1   \n",
              "1           0              0                  0                      3   \n",
              "2           0              0                  0                      0   \n",
              "3           0              0                  0                      0   \n",
              "4           0              0                  0                      1   \n",
              "\n",
              "   reddit_rebranding  reddit_wallet  reddit_good_news  \\\n",
              "0                  0              0                 0   \n",
              "1                  0              1                 0   \n",
              "2                  0              0                 1   \n",
              "3                  0              0                 1   \n",
              "4                  0              0                 0   \n",
              "\n",
              "   reddit_problems_and_issues  reddit_mining  reddit_waiting  \n",
              "0                           0              0               0  \n",
              "1                           1              0               0  \n",
              "2                           0              0               0  \n",
              "3                           0              0               0  \n",
              "4                           0              0               0  \n",
              "\n",
              "[5 rows x 256 columns]"
            ],
            "text/html": [
              "\n",
              "  <div id=\"df-29408a1d-0990-45ae-a7e4-4cd1eaf9705b\" class=\"colab-df-container\">\n",
              "    <div>\n",
              "<style scoped>\n",
              "    .dataframe tbody tr th:only-of-type {\n",
              "        vertical-align: middle;\n",
              "    }\n",
              "\n",
              "    .dataframe tbody tr th {\n",
              "        vertical-align: top;\n",
              "    }\n",
              "\n",
              "    .dataframe thead th {\n",
              "        text-align: right;\n",
              "    }\n",
              "</style>\n",
              "<table border=\"1\" class=\"dataframe\">\n",
              "  <thead>\n",
              "    <tr style=\"text-align: right;\">\n",
              "      <th></th>\n",
              "      <th>date</th>\n",
              "      <th>listing_close</th>\n",
              "      <th>returns</th>\n",
              "      <th>twitter_hacks</th>\n",
              "      <th>twitter_pessimistic_doubtful</th>\n",
              "      <th>twitter_banks</th>\n",
              "      <th>twitter_selling</th>\n",
              "      <th>twitter_market_manipulation</th>\n",
              "      <th>twitter_de_centralisation</th>\n",
              "      <th>twitter_angry</th>\n",
              "      <th>...</th>\n",
              "      <th>reddit_dip</th>\n",
              "      <th>reddit_launch</th>\n",
              "      <th>reddit_fomo_theme</th>\n",
              "      <th>reddit_advice_support</th>\n",
              "      <th>reddit_rebranding</th>\n",
              "      <th>reddit_wallet</th>\n",
              "      <th>reddit_good_news</th>\n",
              "      <th>reddit_problems_and_issues</th>\n",
              "      <th>reddit_mining</th>\n",
              "      <th>reddit_waiting</th>\n",
              "    </tr>\n",
              "  </thead>\n",
              "  <tbody>\n",
              "    <tr>\n",
              "      <th>0</th>\n",
              "      <td>2016-11-01 01:00:00</td>\n",
              "      <td>10.877</td>\n",
              "      <td>NaN</td>\n",
              "      <td>0</td>\n",
              "      <td>0</td>\n",
              "      <td>0</td>\n",
              "      <td>0</td>\n",
              "      <td>0</td>\n",
              "      <td>0</td>\n",
              "      <td>0</td>\n",
              "      <td>...</td>\n",
              "      <td>0</td>\n",
              "      <td>0</td>\n",
              "      <td>0</td>\n",
              "      <td>1</td>\n",
              "      <td>0</td>\n",
              "      <td>0</td>\n",
              "      <td>0</td>\n",
              "      <td>0</td>\n",
              "      <td>0</td>\n",
              "      <td>0</td>\n",
              "    </tr>\n",
              "    <tr>\n",
              "      <th>1</th>\n",
              "      <td>2016-11-01 02:00:00</td>\n",
              "      <td>10.860</td>\n",
              "      <td>0.001564</td>\n",
              "      <td>0</td>\n",
              "      <td>0</td>\n",
              "      <td>0</td>\n",
              "      <td>0</td>\n",
              "      <td>0</td>\n",
              "      <td>0</td>\n",
              "      <td>0</td>\n",
              "      <td>...</td>\n",
              "      <td>0</td>\n",
              "      <td>0</td>\n",
              "      <td>0</td>\n",
              "      <td>3</td>\n",
              "      <td>0</td>\n",
              "      <td>1</td>\n",
              "      <td>0</td>\n",
              "      <td>1</td>\n",
              "      <td>0</td>\n",
              "      <td>0</td>\n",
              "    </tr>\n",
              "    <tr>\n",
              "      <th>2</th>\n",
              "      <td>2016-11-01 03:00:00</td>\n",
              "      <td>10.744</td>\n",
              "      <td>0.010739</td>\n",
              "      <td>0</td>\n",
              "      <td>0</td>\n",
              "      <td>0</td>\n",
              "      <td>0</td>\n",
              "      <td>0</td>\n",
              "      <td>0</td>\n",
              "      <td>0</td>\n",
              "      <td>...</td>\n",
              "      <td>0</td>\n",
              "      <td>0</td>\n",
              "      <td>0</td>\n",
              "      <td>0</td>\n",
              "      <td>0</td>\n",
              "      <td>0</td>\n",
              "      <td>1</td>\n",
              "      <td>0</td>\n",
              "      <td>0</td>\n",
              "      <td>0</td>\n",
              "    </tr>\n",
              "    <tr>\n",
              "      <th>3</th>\n",
              "      <td>2016-11-01 04:00:00</td>\n",
              "      <td>10.716</td>\n",
              "      <td>0.002610</td>\n",
              "      <td>0</td>\n",
              "      <td>0</td>\n",
              "      <td>0</td>\n",
              "      <td>0</td>\n",
              "      <td>0</td>\n",
              "      <td>0</td>\n",
              "      <td>0</td>\n",
              "      <td>...</td>\n",
              "      <td>0</td>\n",
              "      <td>0</td>\n",
              "      <td>0</td>\n",
              "      <td>0</td>\n",
              "      <td>0</td>\n",
              "      <td>0</td>\n",
              "      <td>1</td>\n",
              "      <td>0</td>\n",
              "      <td>0</td>\n",
              "      <td>0</td>\n",
              "    </tr>\n",
              "    <tr>\n",
              "      <th>4</th>\n",
              "      <td>2016-11-01 05:00:00</td>\n",
              "      <td>10.761</td>\n",
              "      <td>-0.004191</td>\n",
              "      <td>0</td>\n",
              "      <td>0</td>\n",
              "      <td>0</td>\n",
              "      <td>0</td>\n",
              "      <td>0</td>\n",
              "      <td>0</td>\n",
              "      <td>0</td>\n",
              "      <td>...</td>\n",
              "      <td>0</td>\n",
              "      <td>0</td>\n",
              "      <td>0</td>\n",
              "      <td>1</td>\n",
              "      <td>0</td>\n",
              "      <td>0</td>\n",
              "      <td>0</td>\n",
              "      <td>0</td>\n",
              "      <td>0</td>\n",
              "      <td>0</td>\n",
              "    </tr>\n",
              "  </tbody>\n",
              "</table>\n",
              "<p>5 rows × 256 columns</p>\n",
              "</div>\n",
              "    <div class=\"colab-df-buttons\">\n",
              "\n",
              "  <div class=\"colab-df-container\">\n",
              "    <button class=\"colab-df-convert\" onclick=\"convertToInteractive('df-29408a1d-0990-45ae-a7e4-4cd1eaf9705b')\"\n",
              "            title=\"Convert this dataframe to an interactive table.\"\n",
              "            style=\"display:none;\">\n",
              "\n",
              "  <svg xmlns=\"http://www.w3.org/2000/svg\" height=\"24px\" viewBox=\"0 -960 960 960\">\n",
              "    <path d=\"M120-120v-720h720v720H120Zm60-500h600v-160H180v160Zm220 220h160v-160H400v160Zm0 220h160v-160H400v160ZM180-400h160v-160H180v160Zm440 0h160v-160H620v160ZM180-180h160v-160H180v160Zm440 0h160v-160H620v160Z\"/>\n",
              "  </svg>\n",
              "    </button>\n",
              "\n",
              "  <style>\n",
              "    .colab-df-container {\n",
              "      display:flex;\n",
              "      gap: 12px;\n",
              "    }\n",
              "\n",
              "    .colab-df-convert {\n",
              "      background-color: #E8F0FE;\n",
              "      border: none;\n",
              "      border-radius: 50%;\n",
              "      cursor: pointer;\n",
              "      display: none;\n",
              "      fill: #1967D2;\n",
              "      height: 32px;\n",
              "      padding: 0 0 0 0;\n",
              "      width: 32px;\n",
              "    }\n",
              "\n",
              "    .colab-df-convert:hover {\n",
              "      background-color: #E2EBFA;\n",
              "      box-shadow: 0px 1px 2px rgba(60, 64, 67, 0.3), 0px 1px 3px 1px rgba(60, 64, 67, 0.15);\n",
              "      fill: #174EA6;\n",
              "    }\n",
              "\n",
              "    .colab-df-buttons div {\n",
              "      margin-bottom: 4px;\n",
              "    }\n",
              "\n",
              "    [theme=dark] .colab-df-convert {\n",
              "      background-color: #3B4455;\n",
              "      fill: #D2E3FC;\n",
              "    }\n",
              "\n",
              "    [theme=dark] .colab-df-convert:hover {\n",
              "      background-color: #434B5C;\n",
              "      box-shadow: 0px 1px 3px 1px rgba(0, 0, 0, 0.15);\n",
              "      filter: drop-shadow(0px 1px 2px rgba(0, 0, 0, 0.3));\n",
              "      fill: #FFFFFF;\n",
              "    }\n",
              "  </style>\n",
              "\n",
              "    <script>\n",
              "      const buttonEl =\n",
              "        document.querySelector('#df-29408a1d-0990-45ae-a7e4-4cd1eaf9705b button.colab-df-convert');\n",
              "      buttonEl.style.display =\n",
              "        google.colab.kernel.accessAllowed ? 'block' : 'none';\n",
              "\n",
              "      async function convertToInteractive(key) {\n",
              "        const element = document.querySelector('#df-29408a1d-0990-45ae-a7e4-4cd1eaf9705b');\n",
              "        const dataTable =\n",
              "          await google.colab.kernel.invokeFunction('convertToInteractive',\n",
              "                                                    [key], {});\n",
              "        if (!dataTable) return;\n",
              "\n",
              "        const docLinkHtml = 'Like what you see? Visit the ' +\n",
              "          '<a target=\"_blank\" href=https://colab.research.google.com/notebooks/data_table.ipynb>data table notebook</a>'\n",
              "          + ' to learn more about interactive tables.';\n",
              "        element.innerHTML = '';\n",
              "        dataTable['output_type'] = 'display_data';\n",
              "        await google.colab.output.renderOutput(dataTable, element);\n",
              "        const docLink = document.createElement('div');\n",
              "        docLink.innerHTML = docLinkHtml;\n",
              "        element.appendChild(docLink);\n",
              "      }\n",
              "    </script>\n",
              "  </div>\n",
              "\n",
              "\n",
              "<div id=\"df-1541dc7f-1864-4e84-af33-59f7b6770f2c\">\n",
              "  <button class=\"colab-df-quickchart\" onclick=\"quickchart('df-1541dc7f-1864-4e84-af33-59f7b6770f2c')\"\n",
              "            title=\"Suggest charts\"\n",
              "            style=\"display:none;\">\n",
              "\n",
              "<svg xmlns=\"http://www.w3.org/2000/svg\" height=\"24px\"viewBox=\"0 0 24 24\"\n",
              "     width=\"24px\">\n",
              "    <g>\n",
              "        <path d=\"M19 3H5c-1.1 0-2 .9-2 2v14c0 1.1.9 2 2 2h14c1.1 0 2-.9 2-2V5c0-1.1-.9-2-2-2zM9 17H7v-7h2v7zm4 0h-2V7h2v10zm4 0h-2v-4h2v4z\"/>\n",
              "    </g>\n",
              "</svg>\n",
              "  </button>\n",
              "\n",
              "<style>\n",
              "  .colab-df-quickchart {\n",
              "      --bg-color: #E8F0FE;\n",
              "      --fill-color: #1967D2;\n",
              "      --hover-bg-color: #E2EBFA;\n",
              "      --hover-fill-color: #174EA6;\n",
              "      --disabled-fill-color: #AAA;\n",
              "      --disabled-bg-color: #DDD;\n",
              "  }\n",
              "\n",
              "  [theme=dark] .colab-df-quickchart {\n",
              "      --bg-color: #3B4455;\n",
              "      --fill-color: #D2E3FC;\n",
              "      --hover-bg-color: #434B5C;\n",
              "      --hover-fill-color: #FFFFFF;\n",
              "      --disabled-bg-color: #3B4455;\n",
              "      --disabled-fill-color: #666;\n",
              "  }\n",
              "\n",
              "  .colab-df-quickchart {\n",
              "    background-color: var(--bg-color);\n",
              "    border: none;\n",
              "    border-radius: 50%;\n",
              "    cursor: pointer;\n",
              "    display: none;\n",
              "    fill: var(--fill-color);\n",
              "    height: 32px;\n",
              "    padding: 0;\n",
              "    width: 32px;\n",
              "  }\n",
              "\n",
              "  .colab-df-quickchart:hover {\n",
              "    background-color: var(--hover-bg-color);\n",
              "    box-shadow: 0 1px 2px rgba(60, 64, 67, 0.3), 0 1px 3px 1px rgba(60, 64, 67, 0.15);\n",
              "    fill: var(--button-hover-fill-color);\n",
              "  }\n",
              "\n",
              "  .colab-df-quickchart-complete:disabled,\n",
              "  .colab-df-quickchart-complete:disabled:hover {\n",
              "    background-color: var(--disabled-bg-color);\n",
              "    fill: var(--disabled-fill-color);\n",
              "    box-shadow: none;\n",
              "  }\n",
              "\n",
              "  .colab-df-spinner {\n",
              "    border: 2px solid var(--fill-color);\n",
              "    border-color: transparent;\n",
              "    border-bottom-color: var(--fill-color);\n",
              "    animation:\n",
              "      spin 1s steps(1) infinite;\n",
              "  }\n",
              "\n",
              "  @keyframes spin {\n",
              "    0% {\n",
              "      border-color: transparent;\n",
              "      border-bottom-color: var(--fill-color);\n",
              "      border-left-color: var(--fill-color);\n",
              "    }\n",
              "    20% {\n",
              "      border-color: transparent;\n",
              "      border-left-color: var(--fill-color);\n",
              "      border-top-color: var(--fill-color);\n",
              "    }\n",
              "    30% {\n",
              "      border-color: transparent;\n",
              "      border-left-color: var(--fill-color);\n",
              "      border-top-color: var(--fill-color);\n",
              "      border-right-color: var(--fill-color);\n",
              "    }\n",
              "    40% {\n",
              "      border-color: transparent;\n",
              "      border-right-color: var(--fill-color);\n",
              "      border-top-color: var(--fill-color);\n",
              "    }\n",
              "    60% {\n",
              "      border-color: transparent;\n",
              "      border-right-color: var(--fill-color);\n",
              "    }\n",
              "    80% {\n",
              "      border-color: transparent;\n",
              "      border-right-color: var(--fill-color);\n",
              "      border-bottom-color: var(--fill-color);\n",
              "    }\n",
              "    90% {\n",
              "      border-color: transparent;\n",
              "      border-bottom-color: var(--fill-color);\n",
              "    }\n",
              "  }\n",
              "</style>\n",
              "\n",
              "  <script>\n",
              "    async function quickchart(key) {\n",
              "      const quickchartButtonEl =\n",
              "        document.querySelector('#' + key + ' button');\n",
              "      quickchartButtonEl.disabled = true;  // To prevent multiple clicks.\n",
              "      quickchartButtonEl.classList.add('colab-df-spinner');\n",
              "      try {\n",
              "        const charts = await google.colab.kernel.invokeFunction(\n",
              "            'suggestCharts', [key], {});\n",
              "      } catch (error) {\n",
              "        console.error('Error during call to suggestCharts:', error);\n",
              "      }\n",
              "      quickchartButtonEl.classList.remove('colab-df-spinner');\n",
              "      quickchartButtonEl.classList.add('colab-df-quickchart-complete');\n",
              "    }\n",
              "    (() => {\n",
              "      let quickchartButtonEl =\n",
              "        document.querySelector('#df-1541dc7f-1864-4e84-af33-59f7b6770f2c button');\n",
              "      quickchartButtonEl.style.display =\n",
              "        google.colab.kernel.accessAllowed ? 'block' : 'none';\n",
              "    })();\n",
              "  </script>\n",
              "</div>\n",
              "\n",
              "    </div>\n",
              "  </div>\n"
            ],
            "application/vnd.google.colaboratory.intrinsic+json": {
              "type": "dataframe",
              "variable_name": "df"
            }
          },
          "metadata": {},
          "execution_count": 5
        }
      ]
    },
    {
      "cell_type": "code",
      "source": [
        "df['date'].head()"
      ],
      "metadata": {
        "colab": {
          "base_uri": "https://localhost:8080/"
        },
        "id": "GctSZXFKwR21",
        "outputId": "fda54be9-f56e-404b-a934-9adfc97924c4"
      },
      "id": "GctSZXFKwR21",
      "execution_count": 6,
      "outputs": [
        {
          "output_type": "execute_result",
          "data": {
            "text/plain": [
              "0    2016-11-01 01:00:00\n",
              "1    2016-11-01 02:00:00\n",
              "2    2016-11-01 03:00:00\n",
              "3    2016-11-01 04:00:00\n",
              "4    2016-11-01 05:00:00\n",
              "Name: date, dtype: object"
            ]
          },
          "metadata": {},
          "execution_count": 6
        }
      ]
    },
    {
      "cell_type": "code",
      "source": [
        "# Drop rows with missing dates\n",
        "df.dropna(subset=['date'], inplace=True)\n",
        "\n",
        "# Filter dataframe based on date range\n",
        "df = df.loc[(df['date'] >= '2016-01-01') & (df['date'] <= '2024-12-31')]\n",
        "\n",
        "# Convert 'date' column to datetime format\n",
        "df['date'] = pd.to_datetime(df['date'])\n",
        "\n",
        "# Set 'date' column as index\n",
        "df.set_index('date', inplace=True)\n",
        "\n",
        "# Display the first few rows of the dataframe\n",
        "print(df.head())"
      ],
      "metadata": {
        "colab": {
          "base_uri": "https://localhost:8080/"
        },
        "id": "5wg6ZxsbvFCS",
        "outputId": "609868b1-391d-4484-9e44-031aa04ba673"
      },
      "id": "5wg6ZxsbvFCS",
      "execution_count": 7,
      "outputs": [
        {
          "output_type": "stream",
          "name": "stdout",
          "text": [
            "                     listing_close   returns  twitter_hacks  \\\n",
            "date                                                          \n",
            "2016-11-01 01:00:00         10.877       NaN              0   \n",
            "2016-11-01 02:00:00         10.860  0.001564              0   \n",
            "2016-11-01 03:00:00         10.744  0.010739              0   \n",
            "2016-11-01 04:00:00         10.716  0.002610              0   \n",
            "2016-11-01 05:00:00         10.761 -0.004191              0   \n",
            "\n",
            "                     twitter_pessimistic_doubtful  twitter_banks  \\\n",
            "date                                                               \n",
            "2016-11-01 01:00:00                             0              0   \n",
            "2016-11-01 02:00:00                             0              0   \n",
            "2016-11-01 03:00:00                             0              0   \n",
            "2016-11-01 04:00:00                             0              0   \n",
            "2016-11-01 05:00:00                             0              0   \n",
            "\n",
            "                     twitter_selling  twitter_market_manipulation  \\\n",
            "date                                                                \n",
            "2016-11-01 01:00:00                0                            0   \n",
            "2016-11-01 02:00:00                0                            0   \n",
            "2016-11-01 03:00:00                0                            0   \n",
            "2016-11-01 04:00:00                0                            0   \n",
            "2016-11-01 05:00:00                0                            0   \n",
            "\n",
            "                     twitter_de_centralisation  twitter_angry  twitter_etf  \\\n",
            "date                                                                         \n",
            "2016-11-01 01:00:00                          0              0            0   \n",
            "2016-11-01 02:00:00                          0              0            0   \n",
            "2016-11-01 03:00:00                          0              0            0   \n",
            "2016-11-01 04:00:00                          0              0            0   \n",
            "2016-11-01 05:00:00                          0              0            0   \n",
            "\n",
            "                     ...  reddit_dip  reddit_launch  reddit_fomo_theme  \\\n",
            "date                 ...                                                 \n",
            "2016-11-01 01:00:00  ...           0              0                  0   \n",
            "2016-11-01 02:00:00  ...           0              0                  0   \n",
            "2016-11-01 03:00:00  ...           0              0                  0   \n",
            "2016-11-01 04:00:00  ...           0              0                  0   \n",
            "2016-11-01 05:00:00  ...           0              0                  0   \n",
            "\n",
            "                     reddit_advice_support  reddit_rebranding  reddit_wallet  \\\n",
            "date                                                                           \n",
            "2016-11-01 01:00:00                      1                  0              0   \n",
            "2016-11-01 02:00:00                      3                  0              1   \n",
            "2016-11-01 03:00:00                      0                  0              0   \n",
            "2016-11-01 04:00:00                      0                  0              0   \n",
            "2016-11-01 05:00:00                      1                  0              0   \n",
            "\n",
            "                     reddit_good_news  reddit_problems_and_issues  \\\n",
            "date                                                                \n",
            "2016-11-01 01:00:00                 0                           0   \n",
            "2016-11-01 02:00:00                 0                           1   \n",
            "2016-11-01 03:00:00                 1                           0   \n",
            "2016-11-01 04:00:00                 1                           0   \n",
            "2016-11-01 05:00:00                 0                           0   \n",
            "\n",
            "                     reddit_mining  reddit_waiting  \n",
            "date                                                \n",
            "2016-11-01 01:00:00              0               0  \n",
            "2016-11-01 02:00:00              0               0  \n",
            "2016-11-01 03:00:00              0               0  \n",
            "2016-11-01 04:00:00              0               0  \n",
            "2016-11-01 05:00:00              0               0  \n",
            "\n",
            "[5 rows x 255 columns]\n"
          ]
        }
      ]
    },
    {
      "cell_type": "code",
      "source": [
        "# Dropping rows where 'return' column has NaN values\n",
        "df_cleaned = df.dropna(subset=['returns'])\n",
        "\n",
        "# Displaying the cleaned DataFrame\n",
        "print(df_cleaned)"
      ],
      "metadata": {
        "colab": {
          "base_uri": "https://localhost:8080/"
        },
        "id": "IBrth1A10fwY",
        "outputId": "8d189747-22af-4d00-8842-545fe64601dc"
      },
      "id": "IBrth1A10fwY",
      "execution_count": 8,
      "outputs": [
        {
          "output_type": "stream",
          "name": "stdout",
          "text": [
            "                     listing_close   returns  twitter_hacks  \\\n",
            "date                                                          \n",
            "2016-11-01 02:00:00         10.860  0.001564              0   \n",
            "2016-11-01 03:00:00         10.744  0.010739              0   \n",
            "2016-11-01 04:00:00         10.716  0.002610              0   \n",
            "2016-11-01 05:00:00         10.761 -0.004191              0   \n",
            "2016-11-01 06:00:00         10.775 -0.001300              0   \n",
            "...                            ...       ...            ...   \n",
            "2024-04-23 11:00:00       3182.000  0.000942              0   \n",
            "2024-04-23 12:00:00       3189.500 -0.002354              0   \n",
            "2024-04-23 13:00:00       3211.400 -0.006843              0   \n",
            "2024-04-23 14:00:00       3252.100 -0.012594              0   \n",
            "2024-04-23 15:00:00       3226.800  0.007810              0   \n",
            "\n",
            "                     twitter_pessimistic_doubtful  twitter_banks  \\\n",
            "date                                                               \n",
            "2016-11-01 02:00:00                             0              0   \n",
            "2016-11-01 03:00:00                             0              0   \n",
            "2016-11-01 04:00:00                             0              0   \n",
            "2016-11-01 05:00:00                             0              0   \n",
            "2016-11-01 06:00:00                             0              0   \n",
            "...                                           ...            ...   \n",
            "2024-04-23 11:00:00                             0              0   \n",
            "2024-04-23 12:00:00                             0              0   \n",
            "2024-04-23 13:00:00                             0              0   \n",
            "2024-04-23 14:00:00                             0              0   \n",
            "2024-04-23 15:00:00                             0              0   \n",
            "\n",
            "                     twitter_selling  twitter_market_manipulation  \\\n",
            "date                                                                \n",
            "2016-11-01 02:00:00                0                            0   \n",
            "2016-11-01 03:00:00                0                            0   \n",
            "2016-11-01 04:00:00                0                            0   \n",
            "2016-11-01 05:00:00                0                            0   \n",
            "2016-11-01 06:00:00                0                            0   \n",
            "...                              ...                          ...   \n",
            "2024-04-23 11:00:00                0                            0   \n",
            "2024-04-23 12:00:00                0                            0   \n",
            "2024-04-23 13:00:00                0                            0   \n",
            "2024-04-23 14:00:00                1                            0   \n",
            "2024-04-23 15:00:00                0                            0   \n",
            "\n",
            "                     twitter_de_centralisation  twitter_angry  twitter_etf  \\\n",
            "date                                                                         \n",
            "2016-11-01 02:00:00                          0              0            0   \n",
            "2016-11-01 03:00:00                          0              0            0   \n",
            "2016-11-01 04:00:00                          0              0            0   \n",
            "2016-11-01 05:00:00                          0              0            0   \n",
            "2016-11-01 06:00:00                          0              0            0   \n",
            "...                                        ...            ...          ...   \n",
            "2024-04-23 11:00:00                          0              0            0   \n",
            "2024-04-23 12:00:00                          0              0            0   \n",
            "2024-04-23 13:00:00                          0              0            1   \n",
            "2024-04-23 14:00:00                          0              0            0   \n",
            "2024-04-23 15:00:00                          0              0            1   \n",
            "\n",
            "                     ...  reddit_dip  reddit_launch  reddit_fomo_theme  \\\n",
            "date                 ...                                                 \n",
            "2016-11-01 02:00:00  ...           0              0                  0   \n",
            "2016-11-01 03:00:00  ...           0              0                  0   \n",
            "2016-11-01 04:00:00  ...           0              0                  0   \n",
            "2016-11-01 05:00:00  ...           0              0                  0   \n",
            "2016-11-01 06:00:00  ...           0              0                  0   \n",
            "...                  ...         ...            ...                ...   \n",
            "2024-04-23 11:00:00  ...           0              0                  0   \n",
            "2024-04-23 12:00:00  ...           1              1                  0   \n",
            "2024-04-23 13:00:00  ...           2              4                  0   \n",
            "2024-04-23 14:00:00  ...           3              2                  0   \n",
            "2024-04-23 15:00:00  ...           0              1                  0   \n",
            "\n",
            "                     reddit_advice_support  reddit_rebranding  reddit_wallet  \\\n",
            "date                                                                           \n",
            "2016-11-01 02:00:00                      3                  0              1   \n",
            "2016-11-01 03:00:00                      0                  0              0   \n",
            "2016-11-01 04:00:00                      0                  0              0   \n",
            "2016-11-01 05:00:00                      1                  0              0   \n",
            "2016-11-01 06:00:00                      1                  0              1   \n",
            "...                                    ...                ...            ...   \n",
            "2024-04-23 11:00:00                     17                  0              2   \n",
            "2024-04-23 12:00:00                     13                  0              1   \n",
            "2024-04-23 13:00:00                     16                  0              2   \n",
            "2024-04-23 14:00:00                     15                  0              6   \n",
            "2024-04-23 15:00:00                     17                  0              2   \n",
            "\n",
            "                     reddit_good_news  reddit_problems_and_issues  \\\n",
            "date                                                                \n",
            "2016-11-01 02:00:00                 0                           1   \n",
            "2016-11-01 03:00:00                 1                           0   \n",
            "2016-11-01 04:00:00                 1                           0   \n",
            "2016-11-01 05:00:00                 0                           0   \n",
            "2016-11-01 06:00:00                 0                           1   \n",
            "...                               ...                         ...   \n",
            "2024-04-23 11:00:00                11                           2   \n",
            "2024-04-23 12:00:00                 3                           2   \n",
            "2024-04-23 13:00:00                 7                           9   \n",
            "2024-04-23 14:00:00                 8                           1   \n",
            "2024-04-23 15:00:00                12                           1   \n",
            "\n",
            "                     reddit_mining  reddit_waiting  \n",
            "date                                                \n",
            "2016-11-01 02:00:00              0               0  \n",
            "2016-11-01 03:00:00              0               0  \n",
            "2016-11-01 04:00:00              0               0  \n",
            "2016-11-01 05:00:00              0               0  \n",
            "2016-11-01 06:00:00              1               1  \n",
            "...                            ...             ...  \n",
            "2024-04-23 11:00:00              0               0  \n",
            "2024-04-23 12:00:00              0               0  \n",
            "2024-04-23 13:00:00              0               0  \n",
            "2024-04-23 14:00:00              0               1  \n",
            "2024-04-23 15:00:00              1               1  \n",
            "\n",
            "[65396 rows x 255 columns]\n"
          ]
        }
      ]
    },
    {
      "cell_type": "code",
      "source": [
        "df = df.dropna(subset=['returns'])"
      ],
      "metadata": {
        "id": "3Q98z5NUzUo4"
      },
      "id": "3Q98z5NUzUo4",
      "execution_count": 9,
      "outputs": []
    },
    {
      "cell_type": "markdown",
      "source": [
        "Plot the time-series."
      ],
      "metadata": {
        "id": "1JyWhxQmvV1C"
      },
      "id": "1JyWhxQmvV1C"
    },
    {
      "cell_type": "code",
      "execution_count": 10,
      "id": "9657316c",
      "metadata": {
        "id": "9657316c",
        "outputId": "b3cc87d9-b3ad-4427-e210-0c8c7da5f970",
        "colab": {
          "base_uri": "https://localhost:8080/",
          "height": 444
        }
      },
      "outputs": [
        {
          "output_type": "display_data",
          "data": {
            "text/plain": [
              "<Figure size 640x480 with 1 Axes>"
            ],
            "image/png": "[encoded data removed]"
          },
          "metadata": {}
        }
      ],
      "source": [
        "#Part - 1\n",
        "#Plotting the time series of value-weighted monthly factor returns for the Ret factor\n",
        "df['returns'].plot() # Plot the 'listing_close' column directly, since 'date' is the index\n",
        "plt.xlabel('date')\n",
        "plt.ylabel('listing Close Factor')\n",
        "plt.title('Time Series of Listing Close')\n",
        "plt.show()"
      ]
    },
    {
      "cell_type": "markdown",
      "source": [
        "Give the annualized mean and standard deviation of this return series."
      ],
      "metadata": {
        "id": "c_97nZxcvSN0"
      },
      "id": "c_97nZxcvSN0"
    },
    {
      "cell_type": "code",
      "source": [
        "#Calculating the annualized mean and standard deviation of this return series\n",
        "annualized_mean = df['returns'].mean() * 12\n",
        "annualized_std_dev = df['returns'].std() * math.sqrt(12)\n",
        "print(\"Annualized Mean of this return series is: \"+str(annualized_mean))\n",
        "print(\"Annualized Standard Deviation of this return series is: \"+str(annualized_std_dev))"
      ],
      "metadata": {
        "colab": {
          "base_uri": "https://localhost:8080/"
        },
        "id": "xYdwpdce2fS1",
        "outputId": "171c24d3-a7c4-4717-f4f7-bc4886722e54"
      },
      "id": "xYdwpdce2fS1",
      "execution_count": 11,
      "outputs": [
        {
          "output_type": "stream",
          "name": "stdout",
          "text": [
            "Annualized Mean of this return series is: -0.0010329272080924826\n",
            "Annualized Standard Deviation of this return series is: 0.03669837243232558\n"
          ]
        }
      ]
    },
    {
      "cell_type": "code",
      "source": [
        "listing_close = df['returns']"
      ],
      "metadata": {
        "id": "aYF0zL6REdkv"
      },
      "id": "aYF0zL6REdkv",
      "execution_count": 12,
      "outputs": []
    },
    {
      "cell_type": "code",
      "source": [
        "print( listing_close )"
      ],
      "metadata": {
        "colab": {
          "base_uri": "https://localhost:8080/"
        },
        "id": "dI7tSg0vElxi",
        "outputId": "247cf4fa-dfd4-4487-b273-344922d3cf42"
      },
      "id": "dI7tSg0vElxi",
      "execution_count": 13,
      "outputs": [
        {
          "output_type": "stream",
          "name": "stdout",
          "text": [
            "date\n",
            "2016-11-01 02:00:00    0.001564\n",
            "2016-11-01 03:00:00    0.010739\n",
            "2016-11-01 04:00:00    0.002610\n",
            "2016-11-01 05:00:00   -0.004191\n",
            "2016-11-01 06:00:00   -0.001300\n",
            "                         ...   \n",
            "2024-04-23 11:00:00    0.000942\n",
            "2024-04-23 12:00:00   -0.002354\n",
            "2024-04-23 13:00:00   -0.006843\n",
            "2024-04-23 14:00:00   -0.012594\n",
            "2024-04-23 15:00:00    0.007810\n",
            "Name: returns, Length: 65396, dtype: float64\n"
          ]
        }
      ]
    },
    {
      "cell_type": "markdown",
      "source": [
        "Plot the 1st to 60th order autocorrelations of returns"
      ],
      "metadata": {
        "id": "13jefsSxvgAw"
      },
      "id": "13jefsSxvgAw"
    },
    {
      "cell_type": "code",
      "source": [
        "\n",
        "# Plot the Autocorrelation Function (ACF) with 60 lags\n",
        "plot_acf(listing_close, lags=60)\n",
        "\n",
        "# Show the plot\n",
        "plt.show()"
      ],
      "metadata": {
        "colab": {
          "base_uri": "https://localhost:8080/",
          "height": 452
        },
        "id": "S8uN2ux1-XjZ",
        "outputId": "4e2b1939-48fc-4931-8dd2-32442dd03e63"
      },
      "id": "S8uN2ux1-XjZ",
      "execution_count": 14,
      "outputs": [
        {
          "output_type": "display_data",
          "data": {
            "text/plain": [
              "<Figure size 640x480 with 1 Axes>"
            ],
            "image/png": "[encoded data removed]"
          },
          "metadata": {}
        }
      ]
    },
    {
      "cell_type": "code",
      "source": [
        "#Part - 2\n",
        "plot_acf(listing_close, lags = 60)\n",
        "pyplot.show()"
      ],
      "metadata": {
        "colab": {
          "base_uri": "https://localhost:8080/",
          "height": 452
        },
        "id": "ngMC7ffF2_wP",
        "outputId": "c5bc86cb-94db-431c-afd7-b96589bd3dc7"
      },
      "id": "ngMC7ffF2_wP",
      "execution_count": 15,
      "outputs": [
        {
          "output_type": "display_data",
          "data": {
            "text/plain": [
              "<Figure size 640x480 with 1 Axes>"
            ],
            "image/png": "[encoded data removed]"
          },
          "metadata": {}
        }
      ]
    },
    {
      "cell_type": "markdown",
      "source": [
        "Perform a Ljung-Box test that the first 6 autocorrelations jointly are zero."
      ],
      "metadata": {
        "id": "fAICKBA5vurm"
      },
      "id": "fAICKBA5vurm"
    },
    {
      "cell_type": "code",
      "source": [
        "#Part - 3\n",
        "\n",
        "# Assuming 'listing_close' is your time series data\n",
        "# Handle missing or infinite values\n",
        "returns = listing_close.pct_change().dropna()\n",
        "\n",
        "# Perform the Ljung-Box test\n",
        "returns_clean = returns.replace([np.inf, -np.inf], np.nan).dropna()\n",
        "\n",
        "sm.stats.acorr_ljungbox(returns_clean, lags=[6], return_df=True)"
      ],
      "metadata": {
        "colab": {
          "base_uri": "https://localhost:8080/",
          "height": 80
        },
        "id": "NEbJqRSvSC45",
        "outputId": "cf9495e8-183f-4b52-df83-94dfd44fbd10"
      },
      "id": "NEbJqRSvSC45",
      "execution_count": 19,
      "outputs": [
        {
          "output_type": "execute_result",
          "data": {
            "text/plain": [
              "    lb_stat  lb_pvalue\n",
              "6  0.185239   0.999876"
            ],
            "text/html": [
              "\n",
              "  <div id=\"df-95450e9f-dd83-40a9-86cd-a769e3f39ae7\" class=\"colab-df-container\">\n",
              "    <div>\n",
              "<style scoped>\n",
              "    .dataframe tbody tr th:only-of-type {\n",
              "        vertical-align: middle;\n",
              "    }\n",
              "\n",
              "    .dataframe tbody tr th {\n",
              "        vertical-align: top;\n",
              "    }\n",
              "\n",
              "    .dataframe thead th {\n",
              "        text-align: right;\n",
              "    }\n",
              "</style>\n",
              "<table border=\"1\" class=\"dataframe\">\n",
              "  <thead>\n",
              "    <tr style=\"text-align: right;\">\n",
              "      <th></th>\n",
              "      <th>lb_stat</th>\n",
              "      <th>lb_pvalue</th>\n",
              "    </tr>\n",
              "  </thead>\n",
              "  <tbody>\n",
              "    <tr>\n",
              "      <th>6</th>\n",
              "      <td>0.185239</td>\n",
              "      <td>0.999876</td>\n",
              "    </tr>\n",
              "  </tbody>\n",
              "</table>\n",
              "</div>\n",
              "    <div class=\"colab-df-buttons\">\n",
              "\n",
              "  <div class=\"colab-df-container\">\n",
              "    <button class=\"colab-df-convert\" onclick=\"convertToInteractive('df-95450e9f-dd83-40a9-86cd-a769e3f39ae7')\"\n",
              "            title=\"Convert this dataframe to an interactive table.\"\n",
              "            style=\"display:none;\">\n",
              "\n",
              "  <svg xmlns=\"http://www.w3.org/2000/svg\" height=\"24px\" viewBox=\"0 -960 960 960\">\n",
              "    <path d=\"M120-120v-720h720v720H120Zm60-500h600v-160H180v160Zm220 220h160v-160H400v160Zm0 220h160v-160H400v160ZM180-400h160v-160H180v160Zm440 0h160v-160H620v160ZM180-180h160v-160H180v160Zm440 0h160v-160H620v160Z\"/>\n",
              "  </svg>\n",
              "    </button>\n",
              "\n",
              "  <style>\n",
              "    .colab-df-container {\n",
              "      display:flex;\n",
              "      gap: 12px;\n",
              "    }\n",
              "\n",
              "    .colab-df-convert {\n",
              "      background-color: #E8F0FE;\n",
              "      border: none;\n",
              "      border-radius: 50%;\n",
              "      cursor: pointer;\n",
              "      display: none;\n",
              "      fill: #1967D2;\n",
              "      height: 32px;\n",
              "      padding: 0 0 0 0;\n",
              "      width: 32px;\n",
              "    }\n",
              "\n",
              "    .colab-df-convert:hover {\n",
              "      background-color: #E2EBFA;\n",
              "      box-shadow: 0px 1px 2px rgba(60, 64, 67, 0.3), 0px 1px 3px 1px rgba(60, 64, 67, 0.15);\n",
              "      fill: #174EA6;\n",
              "    }\n",
              "\n",
              "    .colab-df-buttons div {\n",
              "      margin-bottom: 4px;\n",
              "    }\n",
              "\n",
              "    [theme=dark] .colab-df-convert {\n",
              "      background-color: #3B4455;\n",
              "      fill: #D2E3FC;\n",
              "    }\n",
              "\n",
              "    [theme=dark] .colab-df-convert:hover {\n",
              "      background-color: #434B5C;\n",
              "      box-shadow: 0px 1px 3px 1px rgba(0, 0, 0, 0.15);\n",
              "      filter: drop-shadow(0px 1px 2px rgba(0, 0, 0, 0.3));\n",
              "      fill: #FFFFFF;\n",
              "    }\n",
              "  </style>\n",
              "\n",
              "    <script>\n",
              "      const buttonEl =\n",
              "        document.querySelector('#df-95450e9f-dd83-40a9-86cd-a769e3f39ae7 button.colab-df-convert');\n",
              "      buttonEl.style.display =\n",
              "        google.colab.kernel.accessAllowed ? 'block' : 'none';\n",
              "\n",
              "      async function convertToInteractive(key) {\n",
              "        const element = document.querySelector('#df-95450e9f-dd83-40a9-86cd-a769e3f39ae7');\n",
              "        const dataTable =\n",
              "          await google.colab.kernel.invokeFunction('convertToInteractive',\n",
              "                                                    [key], {});\n",
              "        if (!dataTable) return;\n",
              "\n",
              "        const docLinkHtml = 'Like what you see? Visit the ' +\n",
              "          '<a target=\"_blank\" href=https://colab.research.google.com/notebooks/data_table.ipynb>data table notebook</a>'\n",
              "          + ' to learn more about interactive tables.';\n",
              "        element.innerHTML = '';\n",
              "        dataTable['output_type'] = 'display_data';\n",
              "        await google.colab.output.renderOutput(dataTable, element);\n",
              "        const docLink = document.createElement('div');\n",
              "        docLink.innerHTML = docLinkHtml;\n",
              "        element.appendChild(docLink);\n",
              "      }\n",
              "    </script>\n",
              "  </div>\n",
              "\n",
              "\n",
              "    </div>\n",
              "  </div>\n"
            ],
            "application/vnd.google.colaboratory.intrinsic+json": {
              "type": "dataframe",
              "summary": "{\n  \"name\": \"sm\",\n  \"rows\": 1,\n  \"fields\": [\n    {\n      \"column\": \"lb_stat\",\n      \"properties\": {\n        \"dtype\": \"number\",\n        \"std\": null,\n        \"min\": 0.1852385360566675,\n        \"max\": 0.1852385360566675,\n        \"num_unique_values\": 1,\n        \"samples\": [\n          0.1852385360566675\n        ],\n        \"semantic_type\": \"\",\n        \"description\": \"\"\n      }\n    },\n    {\n      \"column\": \"lb_pvalue\",\n      \"properties\": {\n        \"dtype\": \"number\",\n        \"std\": null,\n        \"min\": 0.9998764465239713,\n        \"max\": 0.9998764465239713,\n        \"num_unique_values\": 1,\n        \"samples\": [\n          0.9998764465239713\n        ],\n        \"semantic_type\": \"\",\n        \"description\": \"\"\n      }\n    }\n  ]\n}"
            }
          },
          "metadata": {},
          "execution_count": 19
        }
      ]
    },
    {
      "cell_type": "code",
      "source": [
        "import numpy as np\n",
        "from statsmodels.tsa.stattools import acf\n",
        "\n",
        "# Handle potential zero values\n",
        "listing_close_nonzero = np.where(listing_close == 0, np.finfo(float).eps, listing_close)\n",
        "\n",
        "# Calculate returns\n",
        "returns = np.log(np.array(listing_close_nonzero[1:]) / np.array(listing_close_nonzero[:-1]))\n",
        "\n",
        "# Replace NaN values in returns with 0\n",
        "returns = np.nan_to_num(returns, nan=0.0)\n",
        "\n",
        "# Calculate autocorrelation coefficients\n",
        "ret_autocorrelation_coefficients = acf(returns, nlags=60, fft=False)\n",
        "\n",
        "print(ret_autocorrelation_coefficients)\n"
      ],
      "metadata": {
        "colab": {
          "base_uri": "https://localhost:8080/"
        },
        "id": "u9US_Abf1qxl",
        "outputId": "480d17eb-739f-45c0-bd12-f7094ac11f44"
      },
      "id": "u9US_Abf1qxl",
      "execution_count": 20,
      "outputs": [
        {
          "output_type": "stream",
          "name": "stderr",
          "text": [
            "<ipython-input-20-3e8397f048e6>:8: RuntimeWarning: invalid value encountered in log\n",
            "  returns = np.log(np.array(listing_close_nonzero[1:]) / np.array(listing_close_nonzero[:-1]))\n"
          ]
        },
        {
          "output_type": "stream",
          "name": "stdout",
          "text": [
            "[ 1.00000000e+00 -2.35904763e-01 -7.04345886e-03  7.46291696e-03\n",
            " -1.26344392e-02  5.23315964e-03  8.34174594e-03 -1.34616851e-02\n",
            "  1.12735740e-02 -2.36401960e-03  5.39611915e-04  1.93380042e-04\n",
            "  9.05790554e-03 -1.92119031e-03  9.23158497e-04 -5.39437525e-03\n",
            " -1.92935097e-03  5.35871159e-03 -7.60160058e-03  8.35572862e-03\n",
            " -4.46584889e-03  4.41651705e-03 -2.91301603e-03  6.39329315e-03\n",
            " -2.07528442e-03 -3.04458912e-03 -2.36859315e-03 -5.28364247e-03\n",
            "  8.29868494e-04 -3.71781646e-03 -9.39472967e-04  4.26102071e-03\n",
            "  2.33632547e-03 -7.84831774e-03  1.70747139e-03 -1.19063061e-03\n",
            "  2.72849485e-03  6.73209726e-03 -3.77186074e-03  2.70579175e-03\n",
            " -2.07034922e-04  4.25798355e-03  9.71506523e-05  2.25968098e-03\n",
            " -1.10290515e-03 -3.38885326e-03 -6.53898300e-03  4.17350272e-03\n",
            "  1.96275379e-03  3.60264337e-03 -7.85761208e-03  4.75684735e-03\n",
            " -4.78222760e-03 -2.06408365e-03  6.65605018e-03 -2.97658182e-03\n",
            " -1.31333910e-03 -1.98820743e-04  7.79105231e-03 -2.80933484e-03\n",
            "  6.87696692e-04]\n"
          ]
        }
      ]
    },
    {
      "cell_type": "code",
      "source": [
        "ret_autocorrelation_coefficients = acf(returns, nlags=60, fft=False)  # Correction here"
      ],
      "metadata": {
        "id": "p5-JJPj72l_F"
      },
      "id": "p5-JJPj72l_F",
      "execution_count": 27,
      "outputs": []
    },
    {
      "cell_type": "code",
      "execution_count": 28,
      "id": "bd971eb0",
      "metadata": {
        "id": "bd971eb0",
        "outputId": "22114861-0f8e-4752-9bb0-e7a31cb4523e",
        "colab": {
          "base_uri": "https://localhost:8080/",
          "height": 469
        }
      },
      "outputs": [
        {
          "output_type": "execute_result",
          "data": {
            "text/plain": [
              "[<matplotlib.lines.Line2D at 0x7c81c9d13880>]"
            ]
          },
          "metadata": {},
          "execution_count": 28
        },
        {
          "output_type": "display_data",
          "data": {
            "text/plain": [
              "<Figure size 640x480 with 1 Axes>"
            ],
            "image/png": "[encoded data removed]"
          },
          "metadata": {}
        }
      ],
      "source": [
        "#print(\"ret Autocorrelation Coefficients are as follows: \")\n",
        "#print(ret_autocorrelation_coefficients)\n",
        "\n",
        "def cumulative_sum_autocorrelations(n, ret_acr_coeff):\n",
        "    cumsum_acr = 0\n",
        "    # Make sure you don't go beyond the length of the array\n",
        "    for i in range(min(n, len(ret_acr_coeff))):\n",
        "        cumsum_acr += ret_acr_coeff[i]\n",
        "    return cumsum_acr\n",
        "\n",
        "cumulative_sum_acr = cumulative_sum_autocorrelations(5, ret_autocorrelation_coefficients)\n",
        "#print(\"\\nCumulative Sum of 5 Autocorrelations is: \" +str(cumulative_sum_acr))\n",
        "\n",
        "cumsum_acr_array = []\n",
        "for i in range (0, 60):\n",
        "    cumsum_acr_array.append(cumulative_sum_autocorrelations(i, ret_autocorrelation_coefficients))\n",
        "\n",
        "x = np.linspace(1, 60, num = 60)\n",
        "y = cumsum_acr_array\n",
        "plt.title(\"Plot of Cumulative Sum of Autocorrelations\")\n",
        "plt.plot(x, y, color=\"red\")"
      ]
    },
    {
      "cell_type": "markdown",
      "id": "33cb5f7a",
      "metadata": {
        "id": "33cb5f7a"
      },
      "source": [
        "* Explanation of Plots:\n",
        "As observed in the plot of cumulative sum of autocorrelations, the curve is increasing initially as we have positive autocorrelations for the first 20 orders. As we get more negative autocorrelations, the cumulative sum begins to reduce. The first plot of autocorrelation coefficients exhibits stationarity and therefore exhibits qualities of predictability as well as the first plot is largely centralised."
      ]
    },
    {
      "cell_type": "markdown",
      "id": "149ef286",
      "metadata": {
        "id": "149ef286"
      },
      "source": [
        "* The p-value is smaller than 0.05. Hence we reject the null hypothesis, and it means that the RMW series exhibits autocorrelation."
      ]
    },
    {
      "cell_type": "code",
      "source": [
        "# Check the length of the DataFrame\n",
        "print(len(df))"
      ],
      "metadata": {
        "colab": {
          "base_uri": "https://localhost:8080/"
        },
        "id": "umBqBeaxO-TY",
        "outputId": "34689a4c-3689-4595-f309-f0219b27e308"
      },
      "id": "umBqBeaxO-TY",
      "execution_count": 29,
      "outputs": [
        {
          "output_type": "stream",
          "name": "stdout",
          "text": [
            "65396\n"
          ]
        }
      ]
    },
    {
      "cell_type": "code",
      "source": [
        "print(df.index)"
      ],
      "metadata": {
        "colab": {
          "base_uri": "https://localhost:8080/"
        },
        "id": "RnxhplNsXfto",
        "outputId": "8eed8a78-94f1-4a5a-b8a7-81f4c9161f8c"
      },
      "id": "RnxhplNsXfto",
      "execution_count": 30,
      "outputs": [
        {
          "output_type": "stream",
          "name": "stdout",
          "text": [
            "DatetimeIndex(['2016-11-01 02:00:00', '2016-11-01 03:00:00',\n",
            "               '2016-11-01 04:00:00', '2016-11-01 05:00:00',\n",
            "               '2016-11-01 06:00:00', '2016-11-01 07:00:00',\n",
            "               '2016-11-01 08:00:00', '2016-11-01 09:00:00',\n",
            "               '2016-11-01 10:00:00', '2016-11-01 11:00:00',\n",
            "               ...\n",
            "               '2024-04-23 06:00:00', '2024-04-23 07:00:00',\n",
            "               '2024-04-23 08:00:00', '2024-04-23 09:00:00',\n",
            "               '2024-04-23 10:00:00', '2024-04-23 11:00:00',\n",
            "               '2024-04-23 12:00:00', '2024-04-23 13:00:00',\n",
            "               '2024-04-23 14:00:00', '2024-04-23 15:00:00'],\n",
            "              dtype='datetime64[ns]', name='date', length=65396, freq=None)\n"
          ]
        }
      ]
    },
    {
      "cell_type": "code",
      "source": [
        "# Drop rows with NaN or infinite values in the 'ret' column\n",
        "df = df.replace([np.inf, -np.inf], np.nan).dropna(subset=['returns', 'listing_close'])\n",
        "\n",
        "# Define predictor and response variables\n",
        "y = df['returns']\n",
        "x = df[['listing_close']]  # Using 'Mkt-RF' as the predictor variable\n",
        "\n",
        "# Fit linear regression model\n",
        "model = sm.OLS(y, x).fit()\n",
        "\n",
        "# View model summary\n",
        "print(model.summary())\n"
      ],
      "metadata": {
        "colab": {
          "base_uri": "https://localhost:8080/"
        },
        "id": "VKF3gy-5YA5r",
        "outputId": "c65df385-38ef-4d28-b8e4-cb036d305a85"
      },
      "id": "VKF3gy-5YA5r",
      "execution_count": 31,
      "outputs": [
        {
          "output_type": "stream",
          "name": "stdout",
          "text": [
            "                                 OLS Regression Results                                \n",
            "=======================================================================================\n",
            "Dep. Variable:                returns   R-squared (uncentered):                   0.000\n",
            "Model:                            OLS   Adj. R-squared (uncentered):              0.000\n",
            "Method:                 Least Squares   F-statistic:                              2.127\n",
            "Date:                Thu, 04 Jul 2024   Prob (F-statistic):                       0.145\n",
            "Time:                        19:49:37   Log-Likelihood:                      2.0459e+05\n",
            "No. Observations:               65396   AIC:                                 -4.092e+05\n",
            "Df Residuals:                   65395   BIC:                                 -4.092e+05\n",
            "Df Model:                           1                                                  \n",
            "Covariance Type:            nonrobust                                                  \n",
            "=================================================================================\n",
            "                    coef    std err          t      P>|t|      [0.025      0.975]\n",
            "---------------------------------------------------------------------------------\n",
            "listing_close -3.694e-08   2.53e-08     -1.459      0.145   -8.66e-08    1.27e-08\n",
            "==============================================================================\n",
            "Omnibus:                    18565.640   Durbin-Watson:                   2.057\n",
            "Prob(Omnibus):                  0.000   Jarque-Bera (JB):          1294785.503\n",
            "Skew:                           0.464   Prob(JB):                         0.00\n",
            "Kurtosis:                      24.779   Cond. No.                         1.00\n",
            "==============================================================================\n",
            "\n",
            "Notes:\n",
            "[1] R² is computed without centering (uncentered) since the model does not contain a constant.\n",
            "[2] Standard Errors assume that the covariance matrix of the errors is correctly specified.\n"
          ]
        }
      ]
    },
    {
      "cell_type": "markdown",
      "id": "9b699408",
      "metadata": {
        "id": "9b699408"
      },
      "source": [
        "In this analysis, we use linear regression to explore the relationship between the Returns and the listing_close. This model investigates how changes in past realized excess market returns influence the return factor, similar to the Ferson and Siegel procedure. This approach helps us gain insights into the potential efficiency of the return factor in relation to market signals."
      ]
    },
    {
      "cell_type": "code",
      "source": [
        "# Add a constant column to the exogenous variables\n",
        "x_with_const = sm.add_constant(x)\n",
        "\n",
        "# Fit linear regression model with the constant term\n",
        "model_with_const = sm.OLS(y, x_with_const).fit()\n",
        "\n",
        "# View model summary\n",
        "print(model_with_const.summary())\n",
        "\n",
        "# Perform White's test\n",
        "white_test = het_white(model_with_const.resid, model_with_const.model.exog)\n",
        "print(white_test)\n"
      ],
      "metadata": {
        "colab": {
          "base_uri": "https://localhost:8080/"
        },
        "id": "L5ciD4hbyQyj",
        "outputId": "63c1bbce-f134-465f-8ff8-9eeab8154389"
      },
      "id": "L5ciD4hbyQyj",
      "execution_count": 32,
      "outputs": [
        {
          "output_type": "stream",
          "name": "stdout",
          "text": [
            "                            OLS Regression Results                            \n",
            "==============================================================================\n",
            "Dep. Variable:                returns   R-squared:                       0.000\n",
            "Model:                            OLS   Adj. R-squared:                 -0.000\n",
            "Method:                 Least Squares   F-statistic:                 0.0005639\n",
            "Date:                Thu, 04 Jul 2024   Prob (F-statistic):              0.981\n",
            "Time:                        19:49:41   Log-Likelihood:             2.0459e+05\n",
            "No. Observations:               65396   AIC:                        -4.092e+05\n",
            "Df Residuals:                   65394   BIC:                        -4.092e+05\n",
            "Df Model:                           1                                         \n",
            "Covariance Type:            nonrobust                                         \n",
            "=================================================================================\n",
            "                    coef    std err          t      P>|t|      [0.025      0.975]\n",
            "---------------------------------------------------------------------------------\n",
            "const         -8.707e-05   5.88e-05     -1.480      0.139      -0.000    2.82e-05\n",
            "listing_close  8.542e-10    3.6e-08      0.024      0.981   -6.96e-08    7.14e-08\n",
            "==============================================================================\n",
            "Omnibus:                    18588.573   Durbin-Watson:                   2.057\n",
            "Prob(Omnibus):                  0.000   Jarque-Bera (JB):          1295047.624\n",
            "Skew:                           0.467   Prob(JB):                         0.00\n",
            "Kurtosis:                      24.781   Cond. No.                     2.32e+03\n",
            "==============================================================================\n",
            "\n",
            "Notes:\n",
            "[1] Standard Errors assume that the covariance matrix of the errors is correctly specified.\n",
            "[2] The condition number is large, 2.32e+03. This might indicate that there are\n",
            "strong multicollinearity or other numerical problems.\n",
            "(136.3567494730374, 2.45758227912486e-30, 68.31769585423316, 2.295913650621686e-30)\n"
          ]
        }
      ]
    },
    {
      "cell_type": "markdown",
      "source": [
        "The White's test is a statistical test used to detect the presence of heteroskedasticity in the residuals of a regression model. Heteroskedasticity refers to the situation where the variance of the error terms is not constant, which violates one of the key assumptions of the ordinary least squares (OLS) regression model. [1]\n",
        "\n",
        "The basic idea behind the White's test is as follows:\n",
        "\n",
        "Fit the original OLS regression model and obtain the residuals.\n",
        "\n",
        "Construct an auxiliary regression model where the dependent variable is the squared residuals from the original model, and the independent variables are:\n",
        "\n",
        "The original independent variables\n",
        "\n",
        "The squares of the original independent variables\n",
        "\n",
        "The cross-products of the original independent variables\n",
        "\n",
        "Compute the test statistic as the product of the number of observations (n) and the R-squared value from the auxiliary regression (nR^2).\n",
        "\n",
        "Compare the test statistic to a chi-square distribution with degrees of freedom equal to the number of independent variables in the auxiliary regression (excluding the intercept).\n",
        "\n",
        "If the test statistic is greater than the critical value from the chi-square distribution, then the null hypothesis of homoscedasticity (constant variance) is rejected, and there is evidence of heteroscedasticity.\n",
        "\n",
        "The key advantage of the White's test is that it does not require any assumptions about the form of the heteroscedasticity. It is a general test that can detect various types of heteroscedasticity patterns.\n",
        "\n",
        "If the White's test indicates the presence of heteroscedasticity, you can consider using alternative estimation methods, such as weighted least squares (WLS) or robust standard errors, to address the issue and obtain valid statistical inferences."
      ],
      "metadata": {
        "id": "eNeKL2GPf3Ti"
      },
      "id": "eNeKL2GPf3Ti"
    }
  ],
  "metadata": {
    "kernelspec": {
      "display_name": "Python 3 (ipykernel)",
      "language": "python",
      "name": "python3"
    },
    "language_info": {
      "codemirror_mode": {
        "name": "ipython",
        "version": 3
      },
      "file_extension": ".py",
      "mimetype": "text/x-python",
      "name": "python",
      "nbconvert_exporter": "python",
      "pygments_lexer": "ipython3",
      "version": "3.9.12"
    },
    "colab": {
      "provenance": []
    }
  },
  "nbformat": 4,
  "nbformat_minor": 5
}