{
  "cells": [
    {
      "cell_type": "markdown",
      "id": "a3085818",
      "metadata": {
        "id": "a3085818"
      },
      "source": [
        "## Advanced Finance Project-2\n",
        "<br>\n",
        "<br>\n"
      ]
    },
    {
      "cell_type": "markdown",
      "source": [
        "#1\n"
      ],
      "metadata": {
        "id": "rqS_C9d2p340"
      },
      "id": "rqS_C9d2p340"
    },
    {
      "cell_type": "code",
      "execution_count": null,
      "id": "9884840d",
      "metadata": {
        "id": "9884840d"
      },
      "outputs": [],
      "source": [
        "import pandas as pd\n",
        "import numpy as np\n",
        "import math\n",
        "import matplotlib.pyplot as plt\n",
        "from datetime import datetime\n",
        "from scipy.stats import norm\n",
        "import sympy as sym\n",
        "import statsmodels.api\n",
        "from pandas import read_csv\n",
        "from matplotlib import pyplot\n",
        "from statsmodels.graphics.tsaplots import plot_acf\n",
        "from statsmodels.tsa.stattools import acf\n",
        "from sklearn.linear_model import LinearRegression\n",
        "from statsmodels.stats.diagnostic import het_white\n",
        "import statsmodels.api as sm"
      ]
    },
    {
      "cell_type": "markdown",
      "id": "9d5e9080",
      "metadata": {
        "id": "9d5e9080"
      },
      "source": [
        "## Question - 1"
      ]
    },
    {
      "cell_type": "code",
      "execution_count": null,
      "id": "0555dcc3",
      "metadata": {
        "scrolled": false,
        "id": "0555dcc3"
      },
      "outputs": [],
      "source": [
        "#Question - 1\n",
        "#Reading the data from CSV file\n",
        "df = pd.read_excel(r'btc_nov20change0F.xlsx', parse_dates=['Date'])"
      ]
    },
    {
      "cell_type": "code",
      "source": [
        "df.head()"
      ],
      "metadata": {
        "colab": {
          "base_uri": "https://localhost:8080/",
          "height": 446
        },
        "id": "p3H-eJJMvhg9",
        "outputId": "4594b8c7-1fd8-4ad8-e07e-e21d84d0d426"
      },
      "id": "p3H-eJJMvhg9",
      "execution_count": null,
      "outputs": [
        {
          "output_type": "execute_result",
          "data": {
            "text/plain": [
              "                  Date       ret Mkt-RF  Unnamed: 3  drxon  log_vol    volume  \\\n",
              "0  2017-02-01 00:00:00  0.023781      0         NaN      1      0.0  0.648393   \n",
              "1  2017-03-01 00:00:00  0.021580   0.83         NaN      1      0.0  0.047879   \n",
              "2  2017-04-01 00:00:00  0.099699   0.79         NaN      1      0.0  0.187204   \n",
              "3  2017-05-01 00:00:00 -0.132271  -0.21         NaN     -1      0.0  0.599507   \n",
              "4  2017-06-01 00:00:00 -0.113482   0.29         NaN     -1      0.0  0.014978   \n",
              "\n",
              "        spx    nasdaq       vix  ...  hashrate  mean hashrate      blox  \\\n",
              "0  0.002110  0.002123 -0.022376  ...  0.019048       0.000864  0.019048   \n",
              "1  0.002106  0.002119 -0.022888  ...  0.030962       0.006995  0.030962   \n",
              "2  0.005706  0.008788 -0.081016  ... -0.069429       0.003615 -0.069429   \n",
              "3 -0.000771  0.001995 -0.015306  ... -0.088795       0.001050 -0.088795   \n",
              "4  0.003511  0.006017 -0.030450  ...  0.139762       0.000898  0.139762   \n",
              "\n",
              "   diffic   mean diffic   inflows  outflows    transx  transf usd    transf  \n",
              "0     0.0  0.000000e+00  0.423231  0.545170  0.486776    0.048134  0.334910  \n",
              "1     0.0  0.000000e+00  0.346054  0.270039  0.066450    0.262790  0.050699  \n",
              "2     0.0  3.108620e-15  0.482525  0.429424  0.052829    0.196326 -0.045447  \n",
              "3     0.0  0.000000e+00 -0.009906  0.300932 -0.115382    0.296938 -0.152061  \n",
              "4     0.0 -3.110000e-15 -0.490144 -0.318161  0.168911   -0.523001  0.174644  \n",
              "\n",
              "[5 rows x 37 columns]"
            ],
            "text/html": [
              "\n",
              "  <div id=\"df-1ac913f6-22e2-4e19-b183-25fb9b046ff1\" class=\"colab-df-container\">\n",
              "    <div>\n",
              "<style scoped>\n",
              "    .dataframe tbody tr th:only-of-type {\n",
              "        vertical-align: middle;\n",
              "    }\n",
              "\n",
              "    .dataframe tbody tr th {\n",
              "        vertical-align: top;\n",
              "    }\n",
              "\n",
              "    .dataframe thead th {\n",
              "        text-align: right;\n",
              "    }\n",
              "</style>\n",
              "<table border=\"1\" class=\"dataframe\">\n",
              "  <thead>\n",
              "    <tr style=\"text-align: right;\">\n",
              "      <th></th>\n",
              "      <th>Date</th>\n",
              "      <th>ret</th>\n",
              "      <th>Mkt-RF</th>\n",
              "      <th>Unnamed: 3</th>\n",
              "      <th>drxon</th>\n",
              "      <th>log_vol</th>\n",
              "      <th>volume</th>\n",
              "      <th>spx</th>\n",
              "      <th>nasdaq</th>\n",
              "      <th>vix</th>\n",
              "      <th>...</th>\n",
              "      <th>hashrate</th>\n",
              "      <th>mean hashrate</th>\n",
              "      <th>blox</th>\n",
              "      <th>diffic</th>\n",
              "      <th>mean diffic</th>\n",
              "      <th>inflows</th>\n",
              "      <th>outflows</th>\n",
              "      <th>transx</th>\n",
              "      <th>transf usd</th>\n",
              "      <th>transf</th>\n",
              "    </tr>\n",
              "  </thead>\n",
              "  <tbody>\n",
              "    <tr>\n",
              "      <th>0</th>\n",
              "      <td>2017-02-01 00:00:00</td>\n",
              "      <td>0.023781</td>\n",
              "      <td>0</td>\n",
              "      <td>NaN</td>\n",
              "      <td>1</td>\n",
              "      <td>0.0</td>\n",
              "      <td>0.648393</td>\n",
              "      <td>0.002110</td>\n",
              "      <td>0.002123</td>\n",
              "      <td>-0.022376</td>\n",
              "      <td>...</td>\n",
              "      <td>0.019048</td>\n",
              "      <td>0.000864</td>\n",
              "      <td>0.019048</td>\n",
              "      <td>0.0</td>\n",
              "      <td>0.000000e+00</td>\n",
              "      <td>0.423231</td>\n",
              "      <td>0.545170</td>\n",
              "      <td>0.486776</td>\n",
              "      <td>0.048134</td>\n",
              "      <td>0.334910</td>\n",
              "    </tr>\n",
              "    <tr>\n",
              "      <th>1</th>\n",
              "      <td>2017-03-01 00:00:00</td>\n",
              "      <td>0.021580</td>\n",
              "      <td>0.83</td>\n",
              "      <td>NaN</td>\n",
              "      <td>1</td>\n",
              "      <td>0.0</td>\n",
              "      <td>0.047879</td>\n",
              "      <td>0.002106</td>\n",
              "      <td>0.002119</td>\n",
              "      <td>-0.022888</td>\n",
              "      <td>...</td>\n",
              "      <td>0.030962</td>\n",
              "      <td>0.006995</td>\n",
              "      <td>0.030962</td>\n",
              "      <td>0.0</td>\n",
              "      <td>0.000000e+00</td>\n",
              "      <td>0.346054</td>\n",
              "      <td>0.270039</td>\n",
              "      <td>0.066450</td>\n",
              "      <td>0.262790</td>\n",
              "      <td>0.050699</td>\n",
              "    </tr>\n",
              "    <tr>\n",
              "      <th>2</th>\n",
              "      <td>2017-04-01 00:00:00</td>\n",
              "      <td>0.099699</td>\n",
              "      <td>0.79</td>\n",
              "      <td>NaN</td>\n",
              "      <td>1</td>\n",
              "      <td>0.0</td>\n",
              "      <td>0.187204</td>\n",
              "      <td>0.005706</td>\n",
              "      <td>0.008788</td>\n",
              "      <td>-0.081016</td>\n",
              "      <td>...</td>\n",
              "      <td>-0.069429</td>\n",
              "      <td>0.003615</td>\n",
              "      <td>-0.069429</td>\n",
              "      <td>0.0</td>\n",
              "      <td>3.108620e-15</td>\n",
              "      <td>0.482525</td>\n",
              "      <td>0.429424</td>\n",
              "      <td>0.052829</td>\n",
              "      <td>0.196326</td>\n",
              "      <td>-0.045447</td>\n",
              "    </tr>\n",
              "    <tr>\n",
              "      <th>3</th>\n",
              "      <td>2017-05-01 00:00:00</td>\n",
              "      <td>-0.132271</td>\n",
              "      <td>-0.21</td>\n",
              "      <td>NaN</td>\n",
              "      <td>-1</td>\n",
              "      <td>0.0</td>\n",
              "      <td>0.599507</td>\n",
              "      <td>-0.000771</td>\n",
              "      <td>0.001995</td>\n",
              "      <td>-0.015306</td>\n",
              "      <td>...</td>\n",
              "      <td>-0.088795</td>\n",
              "      <td>0.001050</td>\n",
              "      <td>-0.088795</td>\n",
              "      <td>0.0</td>\n",
              "      <td>0.000000e+00</td>\n",
              "      <td>-0.009906</td>\n",
              "      <td>0.300932</td>\n",
              "      <td>-0.115382</td>\n",
              "      <td>0.296938</td>\n",
              "      <td>-0.152061</td>\n",
              "    </tr>\n",
              "    <tr>\n",
              "      <th>4</th>\n",
              "      <td>2017-06-01 00:00:00</td>\n",
              "      <td>-0.113482</td>\n",
              "      <td>0.29</td>\n",
              "      <td>NaN</td>\n",
              "      <td>-1</td>\n",
              "      <td>0.0</td>\n",
              "      <td>0.014978</td>\n",
              "      <td>0.003511</td>\n",
              "      <td>0.006017</td>\n",
              "      <td>-0.030450</td>\n",
              "      <td>...</td>\n",
              "      <td>0.139762</td>\n",
              "      <td>0.000898</td>\n",
              "      <td>0.139762</td>\n",
              "      <td>0.0</td>\n",
              "      <td>-3.110000e-15</td>\n",
              "      <td>-0.490144</td>\n",
              "      <td>-0.318161</td>\n",
              "      <td>0.168911</td>\n",
              "      <td>-0.523001</td>\n",
              "      <td>0.174644</td>\n",
              "    </tr>\n",
              "  </tbody>\n",
              "</table>\n",
              "<p>5 rows × 37 columns</p>\n",
              "</div>\n",
              "    <div class=\"colab-df-buttons\">\n",
              "\n",
              "  <div class=\"colab-df-container\">\n",
              "    <button class=\"colab-df-convert\" onclick=\"convertToInteractive('df-1ac913f6-22e2-4e19-b183-25fb9b046ff1')\"\n",
              "            title=\"Convert this dataframe to an interactive table.\"\n",
              "            style=\"display:none;\">\n",
              "\n",
              "  <svg xmlns=\"http://www.w3.org/2000/svg\" height=\"24px\" viewBox=\"0 -960 960 960\">\n",
              "    <path d=\"M120-120v-720h720v720H120Zm60-500h600v-160H180v160Zm220 220h160v-160H400v160Zm0 220h160v-160H400v160ZM180-400h160v-160H180v160Zm440 0h160v-160H620v160ZM180-180h160v-160H180v160Zm440 0h160v-160H620v160Z\"/>\n",
              "  </svg>\n",
              "    </button>\n",
              "\n",
              "  <style>\n",
              "    .colab-df-container {\n",
              "      display:flex;\n",
              "      gap: 12px;\n",
              "    }\n",
              "\n",
              "    .colab-df-convert {\n",
              "      background-color: #E8F0FE;\n",
              "      border: none;\n",
              "      border-radius: 50%;\n",
              "      cursor: pointer;\n",
              "      display: none;\n",
              "      fill: #1967D2;\n",
              "      height: 32px;\n",
              "      padding: 0 0 0 0;\n",
              "      width: 32px;\n",
              "    }\n",
              "\n",
              "    .colab-df-convert:hover {\n",
              "      background-color: #E2EBFA;\n",
              "      box-shadow: 0px 1px 2px rgba(60, 64, 67, 0.3), 0px 1px 3px 1px rgba(60, 64, 67, 0.15);\n",
              "      fill: #174EA6;\n",
              "    }\n",
              "\n",
              "    .colab-df-buttons div {\n",
              "      margin-bottom: 4px;\n",
              "    }\n",
              "\n",
              "    [theme=dark] .colab-df-convert {\n",
              "      background-color: #3B4455;\n",
              "      fill: #D2E3FC;\n",
              "    }\n",
              "\n",
              "    [theme=dark] .colab-df-convert:hover {\n",
              "      background-color: #434B5C;\n",
              "      box-shadow: 0px 1px 3px 1px rgba(0, 0, 0, 0.15);\n",
              "      filter: drop-shadow(0px 1px 2px rgba(0, 0, 0, 0.3));\n",
              "      fill: #FFFFFF;\n",
              "    }\n",
              "  </style>\n",
              "\n",
              "    <script>\n",
              "      const buttonEl =\n",
              "        document.querySelector('#df-1ac913f6-22e2-4e19-b183-25fb9b046ff1 button.colab-df-convert');\n",
              "      buttonEl.style.display =\n",
              "        google.colab.kernel.accessAllowed ? 'block' : 'none';\n",
              "\n",
              "      async function convertToInteractive(key) {\n",
              "        const element = document.querySelector('#df-1ac913f6-22e2-4e19-b183-25fb9b046ff1');\n",
              "        const dataTable =\n",
              "          await google.colab.kernel.invokeFunction('convertToInteractive',\n",
              "                                                    [key], {});\n",
              "        if (!dataTable) return;\n",
              "\n",
              "        const docLinkHtml = 'Like what you see? Visit the ' +\n",
              "          '<a target=\"_blank\" href=https://colab.research.google.com/notebooks/data_table.ipynb>data table notebook</a>'\n",
              "          + ' to learn more about interactive tables.';\n",
              "        element.innerHTML = '';\n",
              "        dataTable['output_type'] = 'display_data';\n",
              "        await google.colab.output.renderOutput(dataTable, element);\n",
              "        const docLink = document.createElement('div');\n",
              "        docLink.innerHTML = docLinkHtml;\n",
              "        element.appendChild(docLink);\n",
              "      }\n",
              "    </script>\n",
              "  </div>\n",
              "\n",
              "\n",
              "<div id=\"df-60af15a1-c46c-43a2-8bfe-78e15960b64a\">\n",
              "  <button class=\"colab-df-quickchart\" onclick=\"quickchart('df-60af15a1-c46c-43a2-8bfe-78e15960b64a')\"\n",
              "            title=\"Suggest charts\"\n",
              "            style=\"display:none;\">\n",
              "\n",
              "<svg xmlns=\"http://www.w3.org/2000/svg\" height=\"24px\"viewBox=\"0 0 24 24\"\n",
              "     width=\"24px\">\n",
              "    <g>\n",
              "        <path d=\"M19 3H5c-1.1 0-2 .9-2 2v14c0 1.1.9 2 2 2h14c1.1 0 2-.9 2-2V5c0-1.1-.9-2-2-2zM9 17H7v-7h2v7zm4 0h-2V7h2v10zm4 0h-2v-4h2v4z\"/>\n",
              "    </g>\n",
              "</svg>\n",
              "  </button>\n",
              "\n",
              "<style>\n",
              "  .colab-df-quickchart {\n",
              "      --bg-color: #E8F0FE;\n",
              "      --fill-color: #1967D2;\n",
              "      --hover-bg-color: #E2EBFA;\n",
              "      --hover-fill-color: #174EA6;\n",
              "      --disabled-fill-color: #AAA;\n",
              "      --disabled-bg-color: #DDD;\n",
              "  }\n",
              "\n",
              "  [theme=dark] .colab-df-quickchart {\n",
              "      --bg-color: #3B4455;\n",
              "      --fill-color: #D2E3FC;\n",
              "      --hover-bg-color: #434B5C;\n",
              "      --hover-fill-color: #FFFFFF;\n",
              "      --disabled-bg-color: #3B4455;\n",
              "      --disabled-fill-color: #666;\n",
              "  }\n",
              "\n",
              "  .colab-df-quickchart {\n",
              "    background-color: var(--bg-color);\n",
              "    border: none;\n",
              "    border-radius: 50%;\n",
              "    cursor: pointer;\n",
              "    display: none;\n",
              "    fill: var(--fill-color);\n",
              "    height: 32px;\n",
              "    padding: 0;\n",
              "    width: 32px;\n",
              "  }\n",
              "\n",
              "  .colab-df-quickchart:hover {\n",
              "    background-color: var(--hover-bg-color);\n",
              "    box-shadow: 0 1px 2px rgba(60, 64, 67, 0.3), 0 1px 3px 1px rgba(60, 64, 67, 0.15);\n",
              "    fill: var(--button-hover-fill-color);\n",
              "  }\n",
              "\n",
              "  .colab-df-quickchart-complete:disabled,\n",
              "  .colab-df-quickchart-complete:disabled:hover {\n",
              "    background-color: var(--disabled-bg-color);\n",
              "    fill: var(--disabled-fill-color);\n",
              "    box-shadow: none;\n",
              "  }\n",
              "\n",
              "  .colab-df-spinner {\n",
              "    border: 2px solid var(--fill-color);\n",
              "    border-color: transparent;\n",
              "    border-bottom-color: var(--fill-color);\n",
              "    animation:\n",
              "      spin 1s steps(1) infinite;\n",
              "  }\n",
              "\n",
              "  @keyframes spin {\n",
              "    0% {\n",
              "      border-color: transparent;\n",
              "      border-bottom-color: var(--fill-color);\n",
              "      border-left-color: var(--fill-color);\n",
              "    }\n",
              "    20% {\n",
              "      border-color: transparent;\n",
              "      border-left-color: var(--fill-color);\n",
              "      border-top-color: var(--fill-color);\n",
              "    }\n",
              "    30% {\n",
              "      border-color: transparent;\n",
              "      border-left-color: var(--fill-color);\n",
              "      border-top-color: var(--fill-color);\n",
              "      border-right-color: var(--fill-color);\n",
              "    }\n",
              "    40% {\n",
              "      border-color: transparent;\n",
              "      border-right-color: var(--fill-color);\n",
              "      border-top-color: var(--fill-color);\n",
              "    }\n",
              "    60% {\n",
              "      border-color: transparent;\n",
              "      border-right-color: var(--fill-color);\n",
              "    }\n",
              "    80% {\n",
              "      border-color: transparent;\n",
              "      border-right-color: var(--fill-color);\n",
              "      border-bottom-color: var(--fill-color);\n",
              "    }\n",
              "    90% {\n",
              "      border-color: transparent;\n",
              "      border-bottom-color: var(--fill-color);\n",
              "    }\n",
              "  }\n",
              "</style>\n",
              "\n",
              "  <script>\n",
              "    async function quickchart(key) {\n",
              "      const quickchartButtonEl =\n",
              "        document.querySelector('#' + key + ' button');\n",
              "      quickchartButtonEl.disabled = true;  // To prevent multiple clicks.\n",
              "      quickchartButtonEl.classList.add('colab-df-spinner');\n",
              "      try {\n",
              "        const charts = await google.colab.kernel.invokeFunction(\n",
              "            'suggestCharts', [key], {});\n",
              "      } catch (error) {\n",
              "        console.error('Error during call to suggestCharts:', error);\n",
              "      }\n",
              "      quickchartButtonEl.classList.remove('colab-df-spinner');\n",
              "      quickchartButtonEl.classList.add('colab-df-quickchart-complete');\n",
              "    }\n",
              "    (() => {\n",
              "      let quickchartButtonEl =\n",
              "        document.querySelector('#df-60af15a1-c46c-43a2-8bfe-78e15960b64a button');\n",
              "      quickchartButtonEl.style.display =\n",
              "        google.colab.kernel.accessAllowed ? 'block' : 'none';\n",
              "    })();\n",
              "  </script>\n",
              "</div>\n",
              "\n",
              "    </div>\n",
              "  </div>\n"
            ],
            "application/vnd.google.colaboratory.intrinsic+json": {
              "type": "dataframe",
              "variable_name": "df"
            }
          },
          "metadata": {},
          "execution_count": 3
        }
      ]
    },
    {
      "cell_type": "code",
      "source": [
        "df['Date'].head()"
      ],
      "metadata": {
        "colab": {
          "base_uri": "https://localhost:8080/"
        },
        "id": "GctSZXFKwR21",
        "outputId": "48f84b2e-7ede-4848-9779-f13ad690f10e"
      },
      "id": "GctSZXFKwR21",
      "execution_count": null,
      "outputs": [
        {
          "output_type": "execute_result",
          "data": {
            "text/plain": [
              "0    2017-02-01 00:00:00\n",
              "1    2017-03-01 00:00:00\n",
              "2    2017-04-01 00:00:00\n",
              "3    2017-05-01 00:00:00\n",
              "4    2017-06-01 00:00:00\n",
              "Name: Date, dtype: object"
            ]
          },
          "metadata": {},
          "execution_count": 4
        }
      ]
    },
    {
      "cell_type": "code",
      "source": [
        "# Reading the data from CSV file\n",
        "df = pd.read_excel(r'btc_nov20change0F.xlsx', parse_dates=['Date'])\n",
        "\n",
        "# Convert 'Date' column to datetime format, handling varying formats\n",
        "df['Date'] = pd.to_datetime(df['Date'], errors='coerce')\n",
        "\n",
        "# Drop rows with missing dates\n",
        "df.dropna(subset=['Date'], inplace=True)\n",
        "\n",
        "# Filter dataframe based on date range\n",
        "df = df.loc[(df['Date'] >= '2017-01-01') & (df['Date'] <= '2023-12-31')]\n",
        "\n",
        "# Extract 'ret' column\n",
        "ret = df['ret']\n",
        "\n",
        "# Display the first few rows of the dataframe\n",
        "print(df.head())"
      ],
      "metadata": {
        "colab": {
          "base_uri": "https://localhost:8080/"
        },
        "id": "5wg6ZxsbvFCS",
        "outputId": "eb7404e3-de85-4d91-aadf-3352ad5efdf1"
      },
      "id": "5wg6ZxsbvFCS",
      "execution_count": null,
      "outputs": [
        {
          "output_type": "stream",
          "name": "stdout",
          "text": [
            "        Date       ret Mkt-RF  Unnamed: 3  drxon  log_vol    volume       spx  \\\n",
            "0 2017-02-01  0.023781      0         NaN      1      0.0  0.648393  0.002110   \n",
            "1 2017-03-01  0.021580   0.83         NaN      1      0.0  0.047879  0.002106   \n",
            "2 2017-04-01  0.099699   0.79         NaN      1      0.0  0.187204  0.005706   \n",
            "3 2017-05-01 -0.132271  -0.21         NaN     -1      0.0  0.599507 -0.000771   \n",
            "4 2017-06-01 -0.113482   0.29         NaN     -1      0.0  0.014978  0.003511   \n",
            "\n",
            "     nasdaq       vix  ...  hashrate  mean hashrate      blox  diffic  \\\n",
            "0  0.002123 -0.022376  ...  0.019048       0.000864  0.019048     0.0   \n",
            "1  0.002119 -0.022888  ...  0.030962       0.006995  0.030962     0.0   \n",
            "2  0.008788 -0.081016  ... -0.069429       0.003615 -0.069429     0.0   \n",
            "3  0.001995 -0.015306  ... -0.088795       0.001050 -0.088795     0.0   \n",
            "4  0.006017 -0.030450  ...  0.139762       0.000898  0.139762     0.0   \n",
            "\n",
            "    mean diffic   inflows  outflows    transx  transf usd    transf  \n",
            "0  0.000000e+00  0.423231  0.545170  0.486776    0.048134  0.334910  \n",
            "1  0.000000e+00  0.346054  0.270039  0.066450    0.262790  0.050699  \n",
            "2  3.108620e-15  0.482525  0.429424  0.052829    0.196326 -0.045447  \n",
            "3  0.000000e+00 -0.009906  0.300932 -0.115382    0.296938 -0.152061  \n",
            "4 -3.110000e-15 -0.490144 -0.318161  0.168911   -0.523001  0.174644  \n",
            "\n",
            "[5 rows x 37 columns]\n"
          ]
        }
      ]
    },
    {
      "cell_type": "code",
      "execution_count": null,
      "id": "9657316c",
      "metadata": {
        "id": "9657316c",
        "outputId": "fee7cdf4-c9f7-4297-fb85-06fb01877c6b",
        "colab": {
          "base_uri": "https://localhost:8080/",
          "height": 444
        }
      },
      "outputs": [
        {
          "output_type": "display_data",
          "data": {
            "text/plain": [
              "<Figure size 640x480 with 1 Axes>"
            ],
            "image/png": "[encoded data removed]"
          },
          "metadata": {}
        }
      ],
      "source": [
        "#Part - 1\n",
        "#Plotting the time series of value-weighted monthly factor returns for the Ret factor\n",
        "df.plot(x = 'Date', y = 'ret')\n",
        "plt.xlabel('Date')\n",
        "plt.ylabel('Ret Factor')\n",
        "plt.title('Time Series of Ret')\n",
        "plt.show()"
      ]
    },
    {
      "cell_type": "code",
      "source": [
        "#Calculating the annualized mean and standard deviation of this return series\n",
        "annualized_mean = df['ret'].mean() * 12\n",
        "annualized_std_dev = df['ret'].std() * math.sqrt(12)\n",
        "print(\"Annualized Mean of this return series is: \"+str(annualized_mean))\n",
        "print(\"Annualized Standard Deviation of this return series is: \"+str(annualized_std_dev))"
      ],
      "metadata": {
        "colab": {
          "base_uri": "https://localhost:8080/"
        },
        "id": "xYdwpdce2fS1",
        "outputId": "104df729-97fe-4bb4-c638-07ed0a997280"
      },
      "id": "xYdwpdce2fS1",
      "execution_count": null,
      "outputs": [
        {
          "output_type": "stream",
          "name": "stdout",
          "text": [
            "Annualized Mean of this return series is: 0.009136492078269824\n",
            "Annualized Standard Deviation of this return series is: 0.1437042020589517\n"
          ]
        }
      ]
    },
    {
      "cell_type": "code",
      "source": [
        "#Part - 2\n",
        "plot_acf(ret, lags = 60)\n",
        "pyplot.show()"
      ],
      "metadata": {
        "colab": {
          "base_uri": "https://localhost:8080/",
          "height": 452
        },
        "id": "ngMC7ffF2_wP",
        "outputId": "b00004d1-b2ed-437d-ffa4-c08f02f44813"
      },
      "id": "ngMC7ffF2_wP",
      "execution_count": null,
      "outputs": [
        {
          "output_type": "display_data",
          "data": {
            "text/plain": [
              "<Figure size 640x480 with 1 Axes>"
            ],
            "image/png": "[encoded data removed]"
          },
          "metadata": {}
        }
      ]
    },
    {
      "cell_type": "code",
      "source": [
        "ret_autocorrelation_coefficients = acf(ret, nlags=60, fft=False)  # Correction here"
      ],
      "metadata": {
        "id": "AFYbx9Et3E_S"
      },
      "id": "AFYbx9Et3E_S",
      "execution_count": null,
      "outputs": []
    },
    {
      "cell_type": "code",
      "execution_count": null,
      "id": "bd971eb0",
      "metadata": {
        "id": "bd971eb0",
        "outputId": "f25f90e3-2c93-42b9-e545-d6cadfca071d",
        "colab": {
          "base_uri": "https://localhost:8080/",
          "height": 469
        }
      },
      "outputs": [
        {
          "output_type": "execute_result",
          "data": {
            "text/plain": [
              "[<matplotlib.lines.Line2D at 0x7b3d682f0310>]"
            ]
          },
          "metadata": {},
          "execution_count": 14
        },
        {
          "output_type": "display_data",
          "data": {
            "text/plain": [
              "<Figure size 640x480 with 1 Axes>"
            ],
            "image/png": "[encoded data removed]"
          },
          "metadata": {}
        }
      ],
      "source": [
        "\n",
        "\n",
        "\n",
        "#print(\"ret Autocorrelation Coefficients are as follows: \")\n",
        "#print(ret_autocorrelation_coefficients)\n",
        "\n",
        "def cumulative_sum_autocorrelations(n, ret_acr_coeff):\n",
        "    cumsum_acr = 0\n",
        "    for i in range(0, n):\n",
        "        cumsum_acr += ret_acr_coeff[i]\n",
        "    return cumsum_acr\n",
        "\n",
        "cumulative_sum_acr = cumulative_sum_autocorrelations(5, ret_autocorrelation_coefficients)\n",
        "#print(\"\\nCumulative Sum of 5 Autocorrelations is: \" +str(cumulative_sum_acr))\n",
        "\n",
        "cumsum_acr_array = []\n",
        "for i in range (0, 60):\n",
        "    cumsum_acr_array.append(cumulative_sum_autocorrelations(i, ret_autocorrelation_coefficients))\n",
        "\n",
        "x = np.linspace(1, 60, num = 60)\n",
        "y = cumsum_acr_array\n",
        "plt.title(\"Plot of Cumulative Sum of Autocorrelations\")\n",
        "plt.plot(x, y, color=\"red\")"
      ]
    },
    {
      "cell_type": "code",
      "source": [
        "# Check data types of 'Mkt-RF' and 'ret' columns\n",
        "print(df['Mkt-RF'].dtype)\n",
        "print(df['ret'].dtype)"
      ],
      "metadata": {
        "colab": {
          "base_uri": "https://localhost:8080/"
        },
        "id": "kZyzbqD585GO",
        "outputId": "2e6186ee-471e-47c1-b153-05e3c28eac06"
      },
      "id": "kZyzbqD585GO",
      "execution_count": null,
      "outputs": [
        {
          "output_type": "stream",
          "name": "stdout",
          "text": [
            "object\n",
            "float64\n"
          ]
        }
      ]
    },
    {
      "cell_type": "code",
      "source": [
        "# Convert non-numeric values to NaN\n",
        "df['Mkt-RF'] = pd.to_numeric(df['Mkt-RF'], errors='coerce')"
      ],
      "metadata": {
        "id": "Uk4U1bckOKuE"
      },
      "id": "Uk4U1bckOKuE",
      "execution_count": null,
      "outputs": []
    },
    {
      "cell_type": "code",
      "source": [
        "df['ret'] = pd.to_numeric(df['ret'], errors='coerce')"
      ],
      "metadata": {
        "id": "6XFS-bPQOmxa"
      },
      "id": "6XFS-bPQOmxa",
      "execution_count": null,
      "outputs": []
    },
    {
      "cell_type": "code",
      "source": [
        "# Check data type after conversion\n",
        "print(df['Mkt-RF'].dtype)"
      ],
      "metadata": {
        "colab": {
          "base_uri": "https://localhost:8080/"
        },
        "id": "iotmbRxROOwZ",
        "outputId": "aea8f511-1f21-4eea-8321-735cef9e7508"
      },
      "id": "iotmbRxROOwZ",
      "execution_count": null,
      "outputs": [
        {
          "output_type": "stream",
          "name": "stdout",
          "text": [
            "float64\n"
          ]
        }
      ]
    },
    {
      "cell_type": "code",
      "source": [
        "# Check data type after conversion\n",
        "print(df['ret'].dtype)"
      ],
      "metadata": {
        "colab": {
          "base_uri": "https://localhost:8080/"
        },
        "id": "K06ZSTnUOr8X",
        "outputId": "d9369dee-6bd6-4269-d22f-99e0ba353530"
      },
      "id": "K06ZSTnUOr8X",
      "execution_count": null,
      "outputs": [
        {
          "output_type": "stream",
          "name": "stdout",
          "text": [
            "float64\n"
          ]
        }
      ]
    },
    {
      "cell_type": "markdown",
      "id": "33cb5f7a",
      "metadata": {
        "id": "33cb5f7a"
      },
      "source": [
        "* Explanation of Plots:\n",
        "As observed in the plot of cumulative sum of autocorrelations, the curve is increasing initially as we have positive autocorrelations for the first 20 orders. As we get more negative autocorrelations, the cumulative sum begins to reduce. The first plot of autocorrelation coefficients exhibits stationarity and therefore exhibits qualities of predictability as well as the first plot is largely centralised."
      ]
    },
    {
      "cell_type": "code",
      "execution_count": null,
      "id": "addb5f26",
      "metadata": {
        "id": "addb5f26",
        "outputId": "83d71b01-aea5-4b2b-e98e-8f376b661045",
        "colab": {
          "base_uri": "https://localhost:8080/",
          "height": 80
        }
      },
      "outputs": [
        {
          "output_type": "execute_result",
          "data": {
            "text/plain": [
              "    lb_stat  lb_pvalue\n",
              "6  4.822383   0.566787"
            ],
            "text/html": [
              "\n",
              "  <div id=\"df-e7dcf086-952c-4798-b629-b857b0c1dace\" class=\"colab-df-container\">\n",
              "    <div>\n",
              "<style scoped>\n",
              "    .dataframe tbody tr th:only-of-type {\n",
              "        vertical-align: middle;\n",
              "    }\n",
              "\n",
              "    .dataframe tbody tr th {\n",
              "        vertical-align: top;\n",
              "    }\n",
              "\n",
              "    .dataframe thead th {\n",
              "        text-align: right;\n",
              "    }\n",
              "</style>\n",
              "<table border=\"1\" class=\"dataframe\">\n",
              "  <thead>\n",
              "    <tr style=\"text-align: right;\">\n",
              "      <th></th>\n",
              "      <th>lb_stat</th>\n",
              "      <th>lb_pvalue</th>\n",
              "    </tr>\n",
              "  </thead>\n",
              "  <tbody>\n",
              "    <tr>\n",
              "      <th>6</th>\n",
              "      <td>4.822383</td>\n",
              "      <td>0.566787</td>\n",
              "    </tr>\n",
              "  </tbody>\n",
              "</table>\n",
              "</div>\n",
              "    <div class=\"colab-df-buttons\">\n",
              "\n",
              "  <div class=\"colab-df-container\">\n",
              "    <button class=\"colab-df-convert\" onclick=\"convertToInteractive('df-e7dcf086-952c-4798-b629-b857b0c1dace')\"\n",
              "            title=\"Convert this dataframe to an interactive table.\"\n",
              "            style=\"display:none;\">\n",
              "\n",
              "  <svg xmlns=\"http://www.w3.org/2000/svg\" height=\"24px\" viewBox=\"0 -960 960 960\">\n",
              "    <path d=\"M120-120v-720h720v720H120Zm60-500h600v-160H180v160Zm220 220h160v-160H400v160Zm0 220h160v-160H400v160ZM180-400h160v-160H180v160Zm440 0h160v-160H620v160ZM180-180h160v-160H180v160Zm440 0h160v-160H620v160Z\"/>\n",
              "  </svg>\n",
              "    </button>\n",
              "\n",
              "  <style>\n",
              "    .colab-df-container {\n",
              "      display:flex;\n",
              "      gap: 12px;\n",
              "    }\n",
              "\n",
              "    .colab-df-convert {\n",
              "      background-color: #E8F0FE;\n",
              "      border: none;\n",
              "      border-radius: 50%;\n",
              "      cursor: pointer;\n",
              "      display: none;\n",
              "      fill: #1967D2;\n",
              "      height: 32px;\n",
              "      padding: 0 0 0 0;\n",
              "      width: 32px;\n",
              "    }\n",
              "\n",
              "    .colab-df-convert:hover {\n",
              "      background-color: #E2EBFA;\n",
              "      box-shadow: 0px 1px 2px rgba(60, 64, 67, 0.3), 0px 1px 3px 1px rgba(60, 64, 67, 0.15);\n",
              "      fill: #174EA6;\n",
              "    }\n",
              "\n",
              "    .colab-df-buttons div {\n",
              "      margin-bottom: 4px;\n",
              "    }\n",
              "\n",
              "    [theme=dark] .colab-df-convert {\n",
              "      background-color: #3B4455;\n",
              "      fill: #D2E3FC;\n",
              "    }\n",
              "\n",
              "    [theme=dark] .colab-df-convert:hover {\n",
              "      background-color: #434B5C;\n",
              "      box-shadow: 0px 1px 3px 1px rgba(0, 0, 0, 0.15);\n",
              "      filter: drop-shadow(0px 1px 2px rgba(0, 0, 0, 0.3));\n",
              "      fill: #FFFFFF;\n",
              "    }\n",
              "  </style>\n",
              "\n",
              "    <script>\n",
              "      const buttonEl =\n",
              "        document.querySelector('#df-e7dcf086-952c-4798-b629-b857b0c1dace button.colab-df-convert');\n",
              "      buttonEl.style.display =\n",
              "        google.colab.kernel.accessAllowed ? 'block' : 'none';\n",
              "\n",
              "      async function convertToInteractive(key) {\n",
              "        const element = document.querySelector('#df-e7dcf086-952c-4798-b629-b857b0c1dace');\n",
              "        const dataTable =\n",
              "          await google.colab.kernel.invokeFunction('convertToInteractive',\n",
              "                                                    [key], {});\n",
              "        if (!dataTable) return;\n",
              "\n",
              "        const docLinkHtml = 'Like what you see? Visit the ' +\n",
              "          '<a target=\"_blank\" href=https://colab.research.google.com/notebooks/data_table.ipynb>data table notebook</a>'\n",
              "          + ' to learn more about interactive tables.';\n",
              "        element.innerHTML = '';\n",
              "        dataTable['output_type'] = 'display_data';\n",
              "        await google.colab.output.renderOutput(dataTable, element);\n",
              "        const docLink = document.createElement('div');\n",
              "        docLink.innerHTML = docLinkHtml;\n",
              "        element.appendChild(docLink);\n",
              "      }\n",
              "    </script>\n",
              "  </div>\n",
              "\n",
              "\n",
              "    </div>\n",
              "  </div>\n"
            ],
            "application/vnd.google.colaboratory.intrinsic+json": {
              "type": "dataframe",
              "summary": "{\n  \"name\": \"sm\",\n  \"rows\": 1,\n  \"fields\": [\n    {\n      \"column\": \"lb_stat\",\n      \"properties\": {\n        \"dtype\": \"number\",\n        \"std\": null,\n        \"min\": 4.822383256081559,\n        \"max\": 4.822383256081559,\n        \"num_unique_values\": 1,\n        \"samples\": [\n          4.822383256081559\n        ],\n        \"semantic_type\": \"\",\n        \"description\": \"\"\n      }\n    },\n    {\n      \"column\": \"lb_pvalue\",\n      \"properties\": {\n        \"dtype\": \"number\",\n        \"std\": null,\n        \"min\": 0.5667874821364194,\n        \"max\": 0.5667874821364194,\n        \"num_unique_values\": 1,\n        \"samples\": [\n          0.5667874821364194\n        ],\n        \"semantic_type\": \"\",\n        \"description\": \"\"\n      }\n    }\n  ]\n}"
            }
          },
          "metadata": {},
          "execution_count": 20
        }
      ],
      "source": [
        "#Part - 3\n",
        "sm.stats.acorr_ljungbox(ret, lags=[6],return_df=True)"
      ]
    },
    {
      "cell_type": "markdown",
      "id": "149ef286",
      "metadata": {
        "id": "149ef286"
      },
      "source": [
        "* The p-value is smaller than 0.05. Hence we reject the null hypothesis, and it means that the RMW series exhibits autocorrelation."
      ]
    },
    {
      "cell_type": "code",
      "source": [
        "# Check the length of the DataFrame\n",
        "print(len(df))"
      ],
      "metadata": {
        "colab": {
          "base_uri": "https://localhost:8080/"
        },
        "id": "umBqBeaxO-TY",
        "outputId": "7e4d2ecb-7ed0-4e1b-9111-d3244c5a1912"
      },
      "id": "umBqBeaxO-TY",
      "execution_count": null,
      "outputs": [
        {
          "output_type": "stream",
          "name": "stdout",
          "text": [
            "971\n"
          ]
        }
      ]
    },
    {
      "cell_type": "code",
      "source": [
        "print(df.index)"
      ],
      "metadata": {
        "colab": {
          "base_uri": "https://localhost:8080/"
        },
        "id": "RnxhplNsXfto",
        "outputId": "0f115bcd-b3a7-4fe3-96af-aeee9fcf1c05"
      },
      "id": "RnxhplNsXfto",
      "execution_count": null,
      "outputs": [
        {
          "output_type": "stream",
          "name": "stdout",
          "text": [
            "Index([   0,    1,    2,    3,    4,    5,    6,    7,    8,    9,\n",
            "       ...\n",
            "       2435, 2436, 2437, 2438, 2439, 2440, 2441, 2442, 2443, 2444],\n",
            "      dtype='int64', length=971)\n"
          ]
        }
      ]
    },
    {
      "cell_type": "code",
      "source": [
        "# Drop rows with NaN or infinite values in the 'ret' column\n",
        "df = df.replace([np.inf, -np.inf], np.nan).dropna(subset=['ret', 'Mkt-RF'])\n",
        "\n",
        "# Define predictor and response variables\n",
        "y = df['ret']\n",
        "x = df[['Mkt-RF']]  # Using 'Mkt-RF' as the predictor variable\n",
        "\n",
        "# Fit linear regression model\n",
        "model = sm.OLS(y, x).fit()\n",
        "\n",
        "# View model summary\n",
        "print(model.summary())\n"
      ],
      "metadata": {
        "colab": {
          "base_uri": "https://localhost:8080/"
        },
        "id": "VKF3gy-5YA5r",
        "outputId": "b404a6d6-3cee-450a-aae8-2d2c69a8ca47"
      },
      "id": "VKF3gy-5YA5r",
      "execution_count": null,
      "outputs": [
        {
          "output_type": "stream",
          "name": "stdout",
          "text": [
            "                                 OLS Regression Results                                \n",
            "=======================================================================================\n",
            "Dep. Variable:                    ret   R-squared (uncentered):                   0.101\n",
            "Model:                            OLS   Adj. R-squared (uncentered):              0.100\n",
            "Method:                 Least Squares   F-statistic:                              109.3\n",
            "Date:                Sun, 28 Apr 2024   Prob (F-statistic):                    2.63e-24\n",
            "Time:                        17:36:19   Log-Likelihood:                          1762.3\n",
            "No. Observations:                 970   AIC:                                     -3523.\n",
            "Df Residuals:                     969   BIC:                                     -3518.\n",
            "Df Model:                           1                                                  \n",
            "Covariance Type:            nonrobust                                                  \n",
            "==============================================================================\n",
            "                 coef    std err          t      P>|t|      [0.025      0.975]\n",
            "------------------------------------------------------------------------------\n",
            "Mkt-RF         0.0123      0.001     10.453      0.000       0.010       0.015\n",
            "==============================================================================\n",
            "Omnibus:                      302.339   Durbin-Watson:                   2.003\n",
            "Prob(Omnibus):                  0.000   Jarque-Bera (JB):             7816.105\n",
            "Skew:                          -0.830   Prob(JB):                         0.00\n",
            "Kurtosis:                      16.807   Cond. No.                         1.00\n",
            "==============================================================================\n",
            "\n",
            "Notes:\n",
            "[1] R² is computed without centering (uncentered) since the model does not contain a constant.\n",
            "[2] Standard Errors assume that the covariance matrix of the errors is correctly specified.\n"
          ]
        }
      ]
    },
    {
      "cell_type": "markdown",
      "id": "9b699408",
      "metadata": {
        "id": "9b699408"
      },
      "source": [
        "In this analysis, we use linear regression to explore the relationship between the market factor ('Mkt-RF') and the return factor ('ret'). This model investigates how changes in past realized excess market returns influence the return factor, similar to the Ferson and Siegel procedure. This approach helps us gain insights into the potential efficiency of the return factor in relation to market signals."
      ]
    },
    {
      "cell_type": "code",
      "source": [
        "import statsmodels.api as sm\n",
        "\n",
        "# Add a constant term to the predictor variable\n",
        "x_with_const = sm.add_constant(x)\n",
        "\n",
        "# Perform White's test\n",
        "white_test = het_white(model.resid, x_with_const)\n",
        "print(white_test)"
      ],
      "metadata": {
        "colab": {
          "base_uri": "https://localhost:8080/"
        },
        "id": "L5ciD4hbyQyj",
        "outputId": "a2274f8b-224d-42a8-814f-bdde99279334"
      },
      "id": "L5ciD4hbyQyj",
      "execution_count": null,
      "outputs": [
        {
          "output_type": "stream",
          "name": "stdout",
          "text": [
            "(310.5344951668099, 3.7007619844493237e-68, 227.6744231696106, 9.445802392276004e-82)\n"
          ]
        }
      ]
    }
  ],
  "metadata": {
    "kernelspec": {
      "display_name": "Python 3 (ipykernel)",
      "language": "python",
      "name": "python3"
    },
    "language_info": {
      "codemirror_mode": {
        "name": "ipython",
        "version": 3
      },
      "file_extension": ".py",
      "mimetype": "text/x-python",
      "name": "python",
      "nbconvert_exporter": "python",
      "pygments_lexer": "ipython3",
      "version": "3.9.12"
    },
    "colab": {
      "provenance": []
    }
  },
  "nbformat": 4,
  "nbformat_minor": 5
}